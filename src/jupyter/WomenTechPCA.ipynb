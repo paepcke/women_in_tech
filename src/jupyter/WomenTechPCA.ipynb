{
 "cells": [
  {
   "cell_type": "code",
   "execution_count": 47,
   "metadata": {
    "collapsed": false
   },
   "outputs": [],
   "source": [
    "%matplotlib inline\n",
    "\n",
    "from sklearn.decomposition import PCA\n",
    "from sklearn.covariance import empirical_covariance\n",
    "from sklearn.preprocessing import Normalizer\n",
    "from matplotlib.pyplot import plot,scatter,show,ylabel,xlabel\n",
    "import numpy as np\n",
    "import os\n",
    "dataPath = os.path.join(os.getenv(\"HOME\"), \n",
    "                        'Project/WomenIndustrySurveyHolzblatt/Data/DataForClustering/slidersByItem.csv')\n",
    "\n",
    "data = pandas.read_csv(dataPath)"
   ]
  },
  {
   "cell_type": "code",
   "execution_count": 25,
   "metadata": {
    "collapsed": false
   },
   "outputs": [
    {
     "name": "stdout",
     "output_type": "stream",
     "text": [
      "[ 0.93636335  0.03481853  0.00741046]\n"
     ]
    }
   ],
   "source": [
    "pca = PCA(n_components=3, whiten=True)\n",
    "pca.fit(data, copy=True)\n",
    "print(pca.explained_variance_ratio_)"
   ]
  },
  {
   "cell_type": "code",
   "execution_count": 26,
   "metadata": {
    "collapsed": true
   },
   "outputs": [],
   "source": [
    "xformedData = pca.transform(data)"
   ]
  },
  {
   "cell_type": "code",
   "execution_count": 27,
   "metadata": {
    "collapsed": true
   },
   "outputs": [
    {
     "data": {
      "text/plain": [
       "array([[-1.32091009,  1.12098398, -0.19027295],\n",
       "       [-1.31655254,  1.36514611,  0.51456993],\n",
       "       [-1.31452016,  1.30013032, -0.20777293],\n",
       "       [-1.31280942,  0.58543981,  0.95511219],\n",
       "       [-1.3086507 ,  1.23802058, -0.30391631],\n",
       "       [-1.30888933,  0.9008692 ,  0.71150983],\n",
       "       [-1.2977878 ,  1.53188166, -0.78658937],\n",
       "       [-1.30593321, -1.24476545,  0.28058602],\n",
       "       [-1.28455943, -1.31430577,  0.95884931],\n",
       "       [-1.26362794,  0.76265448,  1.18303786],\n",
       "       [-1.25094145, -0.3210522 ,  1.94455832],\n",
       "       [-1.23882421,  1.70494389, -0.99821492],\n",
       "       [-1.22571094,  1.10364772, -0.79950109],\n",
       "       [-1.21400087, -0.43968173, -0.90148823],\n",
       "       [-1.21156841, -1.01945674, -0.70776963],\n",
       "       [-1.17370466,  1.04570227,  0.21514047],\n",
       "       [-1.1791025 , -1.29463903,  0.6764087 ],\n",
       "       [-1.15308805,  1.50743158,  0.30087619],\n",
       "       [-1.15395217, -1.1014095 , -0.4480489 ],\n",
       "       [-1.14490845,  1.41935106, -0.48626549],\n",
       "       [-1.13616136, -1.16544591,  0.01420957],\n",
       "       [-1.11471321,  0.20881149, -0.72917109],\n",
       "       [-0.99604804,  0.8828902 ,  0.22928648],\n",
       "       [-0.98123687,  0.54059651,  0.55682462],\n",
       "       [-0.97524419,  2.01490605, -1.02665859],\n",
       "       [-0.98349485, -1.10184068, -0.25115617],\n",
       "       [-0.9803924 , -0.96557988, -1.27398207],\n",
       "       [-0.97646044, -1.11474956, -0.19014796],\n",
       "       [-0.96658476,  0.54558015,  0.3125793 ],\n",
       "       [-0.96613071, -1.30164319,  0.56746561],\n",
       "       [-0.96004259, -1.30845644,  0.64481649],\n",
       "       [-0.93325968, -0.60438708, -1.56768767],\n",
       "       [-0.90096401,  0.61025897, -0.28865519],\n",
       "       [-0.77690072, -1.18038066, -0.01524709],\n",
       "       [-0.75416318, -0.44827887, -2.18305885],\n",
       "       [-0.71956918,  1.82629468, -0.53556732],\n",
       "       [-0.72090444,  0.68799122,  1.57903475],\n",
       "       [-0.72347125, -0.98047323, -0.22747795],\n",
       "       [-0.68412205, -1.06470237, -0.8774347 ],\n",
       "       [-0.66389247,  0.08469313, -2.44612678],\n",
       "       [-0.60729653,  0.68478977,  0.07416701],\n",
       "       [-0.58549835, -1.18958282, -0.15683492],\n",
       "       [-0.57770892,  0.39348923,  0.70074936],\n",
       "       [-0.57575228,  0.22115564, -2.51734712],\n",
       "       [-0.57162164,  1.46551645,  0.1393239 ],\n",
       "       [-0.57368373,  0.32775178,  0.85329708],\n",
       "       [-0.57664613, -1.15232499, -0.1057016 ],\n",
       "       [-0.55312528, -0.8712936 ,  1.34791119],\n",
       "       [-0.48728389, -1.23731815,  0.32131319],\n",
       "       [-0.47743723,  0.80475655,  0.05560128],\n",
       "       [-0.46598057,  0.69075066,  0.24496039],\n",
       "       [-0.47042745, -1.31948168,  0.35055808],\n",
       "       [-0.45862525,  1.11065624,  0.41413392],\n",
       "       [-0.45395787,  0.21154238,  2.03208102],\n",
       "       [-0.44491284,  1.22593623, -0.07400209],\n",
       "       [-0.44730985, -0.58255168, -1.63058678],\n",
       "       [-0.43962203, -0.12138143, -1.11463251],\n",
       "       [-0.42533053,  1.77309419, -0.52083921],\n",
       "       [-0.41075595, -1.07632492, -0.70745295],\n",
       "       [-0.3485218 ,  1.04891268, -0.63914168],\n",
       "       [-0.2882323 , -1.19091236, -0.1089633 ],\n",
       "       [-0.25935274, -0.1447467 ,  2.76555142],\n",
       "       [-0.25907908, -0.68607275, -1.85641183],\n",
       "       [-0.22789857,  1.06929332,  0.03459335],\n",
       "       [-0.22993791, -1.37250868,  0.67378936],\n",
       "       [-0.22615248, -0.86797094, -0.64696776],\n",
       "       [-0.22589964, -1.1106144 , -0.91065602],\n",
       "       [-0.21721608,  0.97106853, -0.12308074],\n",
       "       [-0.21447897, -0.47564474,  2.16024357],\n",
       "       [-0.20255835,  0.66209683,  0.04709441],\n",
       "       [-0.20102267, -0.73085733, -1.26645303],\n",
       "       [-0.19608344,  0.42171839,  0.87892516],\n",
       "       [-0.19995875, -1.38770903,  0.80097347],\n",
       "       [-0.18959768,  1.48420542, -0.77502897],\n",
       "       [-0.18968295, -0.26075246,  1.78799272],\n",
       "       [-0.18788785, -0.05197138, -1.45474301],\n",
       "       [-0.18585525,  0.34600748,  0.57666499],\n",
       "       [-0.18087902,  0.48585679,  1.28542389],\n",
       "       [-0.18237876, -0.51611803,  1.5247849 ],\n",
       "       [-0.18295676, -1.18351983, -0.33423227],\n",
       "       [-0.17320505,  1.39949987, -0.54351119],\n",
       "       [-0.17330592, -0.97750384, -0.69227563],\n",
       "       [-0.16887769, -0.52426185, -1.98739381],\n",
       "       [-0.17003196, -1.41950018,  1.09457185],\n",
       "       [-0.15712218,  1.07314499, -0.21216609],\n",
       "       [-0.16051677, -1.38976707,  0.74900643],\n",
       "       [-0.1480302 ,  1.71146584, -0.57753344],\n",
       "       [-0.14999241, -0.20532703,  1.5598667 ],\n",
       "       [-0.14560303,  0.53429233,  0.89561198],\n",
       "       [-0.14831405, -1.19371459, -0.28095708],\n",
       "       [-0.14062302,  0.56105254,  1.31839202],\n",
       "       [-0.13547023,  1.02304712,  0.33538425],\n",
       "       [-0.13794882,  0.03343795,  1.64473352],\n",
       "       [-0.12968252,  0.82985971,  0.62568613],\n",
       "       [-0.13142187, -0.369124  ,  1.24281083],\n",
       "       [-0.12660859,  0.80778615,  0.4030699 ],\n",
       "       [-0.1249597 ,  0.60242143,  0.34735451],\n",
       "       [-0.1276496 , -0.62985219,  0.96735306],\n",
       "       [-0.11533364,  0.63141006,  0.52101585],\n",
       "       [-0.11779928, -1.10810457, -0.81755076],\n",
       "       [-0.11551376, -1.09073731, -1.06250292],\n",
       "       [-0.11111251,  0.14369725,  1.01409956],\n",
       "       [-0.09582388,  1.14460499, -0.18193434],\n",
       "       [-0.10148537, -1.08960416,  0.29849116],\n",
       "       [-0.09605455,  0.26868668, -1.80668842],\n",
       "       [-0.09396566,  0.60562362,  0.4802743 ],\n",
       "       [-0.09454318, -0.07352175,  1.28894945],\n",
       "       [-0.08939565, -0.43616267, -2.62476824],\n",
       "       [-0.08868492, -1.42902352,  1.11161575],\n",
       "       [-0.08562417, -1.18140426, -0.22916561],\n",
       "       [-0.07454185, -0.05686837,  0.85177452],\n",
       "       [-0.0312006 ,  0.40063382,  0.58047449],\n",
       "       [-0.03051578, -1.17427919, -0.28403778],\n",
       "       [-0.02692915, -0.98290573, -0.47096481],\n",
       "       [ 0.010652  , -1.44041534,  1.13793855],\n",
       "       [ 0.01585842, -0.70716183, -1.8148474 ],\n",
       "       [ 0.01907029, -1.3648334 ,  0.40917398],\n",
       "       [ 0.03091187,  0.6050884 ,  0.40036812],\n",
       "       [ 0.03988068,  0.42724621,  1.1534297 ],\n",
       "       [ 0.04301854,  1.02860557, -0.00634001],\n",
       "       [ 0.05291135,  1.53059929, -0.76032276],\n",
       "       [ 0.05335181,  0.14602243,  1.20686933],\n",
       "       [ 0.06514704,  1.57538813, -0.758021  ],\n",
       "       [ 0.06635558,  1.34537854,  0.37116752],\n",
       "       [ 0.06252634, -1.2718257 ,  0.33213362],\n",
       "       [ 0.07332385,  1.25218179, -0.4685258 ],\n",
       "       [ 0.08907825,  0.39639892,  0.71999227],\n",
       "       [ 0.09394461,  0.03990221,  0.72892931],\n",
       "       [ 0.10102955,  1.19439723, -0.71583744],\n",
       "       [ 0.10263064, -1.10959594, -0.8008647 ],\n",
       "       [ 0.11351964,  0.8791251 , -0.16920167],\n",
       "       [ 0.15487802, -0.19108332,  0.15253092],\n",
       "       [ 0.15368025, -1.18517766, -0.40943419],\n",
       "       [ 0.1629441 ,  1.47177776,  0.37588222],\n",
       "       [ 0.16798062,  1.47388003, -0.51633508],\n",
       "       [ 0.16137694, -1.12508575, -0.75514112],\n",
       "       [ 0.16783755, -1.06650412, -1.07557862],\n",
       "       [ 0.16942916, -1.15979158, -0.60017081],\n",
       "       [ 0.17207376, -0.59734877,  0.07078192],\n",
       "       [ 0.18948547, -0.74202857, -1.12233618],\n",
       "       [ 0.19142898, -1.04446778, -1.44427736],\n",
       "       [ 0.1928226 , -1.0881581 ,  1.52066788],\n",
       "       [ 0.20957502,  0.18112484,  0.95507558],\n",
       "       [ 0.20597952, -1.17593195, -0.72766958],\n",
       "       [ 0.23138173,  0.00625793,  1.10121046],\n",
       "       [ 0.25194212,  0.85141322,  1.14414856],\n",
       "       [ 0.25331891, -0.37191608, -2.77252918],\n",
       "       [ 0.2513228 , -1.39925091,  0.55883681],\n",
       "       [ 0.37399097, -0.74633405,  1.97286969],\n",
       "       [ 0.4159079 ,  0.83398212, -0.07336508],\n",
       "       [ 0.47987435, -1.44889677,  0.833024  ],\n",
       "       [ 0.48790515, -1.41983824,  0.98365987],\n",
       "       [ 0.49728944,  0.58124259,  0.48214064],\n",
       "       [ 0.49464112, -0.81964593, -1.12600837],\n",
       "       [ 0.49938474, -0.47868566, -2.45364613],\n",
       "       [ 0.50673799,  1.58369861, -0.11614278],\n",
       "       [ 0.73370394,  0.54251324, -0.01019569],\n",
       "       [ 0.74481834, -1.31116993,  0.21059263],\n",
       "       [ 0.75323995,  0.38845408,  0.57051089],\n",
       "       [ 0.75011249, -1.19193488, -0.69080079],\n",
       "       [ 0.76120547,  0.61957898,  1.16015356],\n",
       "       [ 0.76593159,  0.84332224, -0.54599803],\n",
       "       [ 0.91677303, -0.7433891 , -1.87113852],\n",
       "       [ 1.01021629,  1.34590994, -0.2622629 ],\n",
       "       [ 1.0095152 ,  0.61493071,  0.84695116],\n",
       "       [ 1.1165581 ,  1.34252159,  0.07665203],\n",
       "       [ 1.13821627,  0.97577983,  0.324901  ],\n",
       "       [ 1.40342721, -0.41418342,  0.64646914],\n",
       "       [ 1.79354876,  0.19040938,  1.36604705],\n",
       "       [ 1.81779645,  1.06784624, -0.8278734 ],\n",
       "       [ 1.92760729, -0.93957306, -0.81288407],\n",
       "       [ 2.09819123,  0.76010336, -0.12848695],\n",
       "       [ 2.09848073, -1.02338876, -0.9855766 ],\n",
       "       [ 2.50233079,  0.72545289,  0.61547773],\n",
       "       [ 2.55953662,  0.41970907, -0.33319254],\n",
       "       [ 2.55699794, -1.44344806, -0.09101589],\n",
       "       [ 2.62193926, -1.39554211, -0.35307083],\n",
       "       [ 2.63097251,  1.18024895, -0.72195098],\n",
       "       [ 2.63323406,  1.12032877, -0.99181798],\n",
       "       [ 2.69803369,  0.8273575 , -0.07543705],\n",
       "       [ 2.83733329, -0.30921487, -0.74171868],\n",
       "       [ 3.13910011,  1.68613718, -0.97299462],\n",
       "       [ 3.82420093, -0.87239199,  1.72912634],\n",
       "       [ 4.19087242,  0.21897925,  1.05649995]])"
      ]
     },
     "execution_count": 27,
     "metadata": {},
     "output_type": "execute_result"
    }
   ],
   "source": [
    "xformedData"
   ]
  },
  {
   "cell_type": "code",
   "execution_count": 28,
   "metadata": {
    "collapsed": false
   },
   "outputs": [
    {
     "data": {
      "text/plain": [
       "<matplotlib.collections.PathCollection at 0x113f52250>"
      ]
     },
     "execution_count": 28,
     "metadata": {},
     "output_type": "execute_result"
    },
    {
     "data": {
      "image/png": "[encoded data removed]",
      "text/plain": [
       "<matplotlib.figure.Figure at 0x11319c590>"
      ]
     },
     "metadata": {},
     "output_type": "display_data"
    }
   ],
   "source": [
    "scatter(xformedData[:,0], xformedData[:,1])"
   ]
  },
  {
   "cell_type": "code",
   "execution_count": 31,
   "metadata": {
    "collapsed": true
   },
   "outputs": [],
   "source": [
    "# Get K-Means on the reduced-dimension set:\n",
    "(centroids, distortion) = kmeans(xformedData, 3)"
   ]
  },
  {
   "cell_type": "code",
   "execution_count": 32,
   "metadata": {
    "collapsed": false
   },
   "outputs": [
    {
     "data": {
      "text/plain": [
       "array([[-0.02702366,  1.09468477, -0.15168565],\n",
       "       [-0.09103949, -0.91816029, -0.76710746],\n",
       "       [ 0.14651215, -0.19916851,  1.14129546]])"
      ]
     },
     "execution_count": 32,
     "metadata": {},
     "output_type": "execute_result"
    }
   ],
   "source": [
    "centroids"
   ]
  },
  {
   "cell_type": "code",
   "execution_count": 34,
   "metadata": {
    "collapsed": false
   },
   "outputs": [],
   "source": [
    "(clusterIndexes, distortions) = vq(xformedData, centroids)"
   ]
  },
  {
   "cell_type": "code",
   "execution_count": 35,
   "metadata": {
    "collapsed": false
   },
   "outputs": [
    {
     "data": {
      "text/plain": [
       "array([0, 0, 0, 2, 0, 0, 0, 1, 2, 2, 2, 0, 0, 1, 1, 0, 2, 0, 1, 0, 1, 0, 0,\n",
       "       0, 0, 1, 1, 1, 0, 1, 2, 1, 0, 1, 1, 0, 2, 1, 1, 1, 0, 1, 2, 1, 0, 2,\n",
       "       1, 2, 1, 0, 0, 1, 0, 2, 0, 1, 1, 0, 1, 0, 1, 2, 1, 0, 2, 1, 1, 0, 2,\n",
       "       0, 1, 2, 2, 0, 2, 1, 2, 2, 2, 1, 0, 1, 1, 2, 0, 2, 0, 2, 2, 1, 2, 0,\n",
       "       2, 0, 2, 0, 0, 2, 0, 1, 1, 2, 0, 1, 1, 0, 2, 1, 2, 1, 2, 2, 1, 1, 2,\n",
       "       1, 1, 0, 2, 0, 0, 2, 0, 0, 1, 0, 2, 2, 0, 1, 0, 2, 1, 0, 0, 1, 1, 1,\n",
       "       1, 1, 1, 2, 2, 1, 2, 2, 1, 2, 2, 0, 2, 2, 0, 1, 1, 0, 0, 1, 2, 1, 2,\n",
       "       0, 1, 0, 2, 0, 0, 2, 2, 0, 1, 0, 1, 2, 0, 1, 1, 0, 0, 0, 1, 0, 2, 2], dtype=int32)"
      ]
     },
     "execution_count": 35,
     "metadata": {},
     "output_type": "execute_result"
    }
   ],
   "source": [
    "clusterIndexes"
   ]
  },
  {
   "cell_type": "code",
   "execution_count": 38,
   "metadata": {
    "collapsed": false
   },
   "outputs": [
    {
     "data": {
      "text/plain": [
       "<matplotlib.collections.PathCollection at 0x114252ad0>"
      ]
     },
     "execution_count": 38,
     "metadata": {},
     "output_type": "execute_result"
    },
    {
     "data": {
      "image/png": "[encoded data removed]",
      "text/plain": [
       "<matplotlib.figure.Figure at 0x1140d5690>"
      ]
     },
     "metadata": {},
     "output_type": "display_data"
    }
   ],
   "source": [
    "# Plot question clusters based on first two\n",
    "# principle components:\n",
    "scatter(xformedData[:,0], xformedData[:,1], s=80, c=clusterIndexes)"
   ]
  },
  {
   "cell_type": "code",
   "execution_count": 39,
   "metadata": {
    "collapsed": true
   },
   "outputs": [],
   "source": [
    "covarMatrixXformed = empirical_covariance(xformedData)"
   ]
  },
  {
   "cell_type": "code",
   "execution_count": 40,
   "metadata": {
    "collapsed": false
   },
   "outputs": [
    {
     "data": {
      "text/plain": [
       "array([[  1.00000000e+00,   1.05615999e-14,   2.89623398e-17],\n",
       "       [  1.05615999e-14,   1.00000000e+00,   1.86565739e-14],\n",
       "       [  2.89623398e-17,   1.86565739e-14,   1.00000000e+00]])"
      ]
     },
     "execution_count": 40,
     "metadata": {},
     "output_type": "execute_result"
    }
   ],
   "source": [
    "# Check that only miniscule covariance\n",
    "covarMatrixXformed"
   ]
  },
  {
   "cell_type": "code",
   "execution_count": 48,
   "metadata": {
    "collapsed": false
   },
   "outputs": [],
   "source": [
    "normalizer = Normalizer()\n",
    "normedData = normalizer.fit_transform(data)\n",
    "covarMatrixOrig = empirical_covariance(normedData, assume_centered=False)"
   ]
  },
  {
   "cell_type": "code",
   "execution_count": 49,
   "metadata": {
    "collapsed": false
   },
   "outputs": [
    {
     "data": {
      "text/plain": [
       "array([[  6.74063170e-16,  -5.98635726e-13,  -6.15974928e-13, ...,\n",
       "         -6.22658097e-13,  -5.92721294e-13,  -5.28146758e-13],\n",
       "       [ -5.98635726e-13,   9.68461229e-10,   6.42599288e-10, ...,\n",
       "          7.06960757e-10,   6.92831535e-10,   4.95140698e-10],\n",
       "       [ -6.15974928e-13,   6.42599288e-10,   7.74998397e-10, ...,\n",
       "          6.73825030e-10,   6.18591096e-10,   4.93189825e-10],\n",
       "       ..., \n",
       "       [ -6.22658097e-13,   7.06960757e-10,   6.73825030e-10, ...,\n",
       "          1.04381513e-09,   8.57357670e-10,   6.37922484e-10],\n",
       "       [ -5.92721294e-13,   6.92831535e-10,   6.18591096e-10, ...,\n",
       "          8.57357670e-10,   1.03686714e-09,   6.50488124e-10],\n",
       "       [ -5.28146758e-13,   4.95140698e-10,   4.93189825e-10, ...,\n",
       "          6.37922484e-10,   6.50488124e-10,   6.86062364e-10]])"
      ]
     },
     "execution_count": 49,
     "metadata": {},
     "output_type": "execute_result"
    }
   ],
   "source": [
    "covarMatrixOrig"
   ]
  },
  {
   "cell_type": "code",
   "execution_count": 50,
   "metadata": {
    "collapsed": false
   },
   "outputs": [
    {
     "data": {
      "text/plain": [
       "array([[  9.99999939e-01,   5.56320789e-05,   6.42511334e-05, ...,\n",
       "          4.62294740e-05,   6.42511334e-05,   6.89524359e-05],\n",
       "       [  9.99999931e-01,   6.89522732e-05,   6.42509819e-05, ...,\n",
       "          7.36535646e-05,   6.89522732e-05,   6.42509819e-05],\n",
       "       [  9.99999930e-01,   5.09305765e-05,   5.56318605e-05, ...,\n",
       "          7.36534491e-05,   5.95495971e-05,   5.95495971e-05],\n",
       "       ..., \n",
       "       [  9.99999887e-01,   7.81271275e-05,   7.81271275e-05, ...,\n",
       "          7.34394998e-05,   7.81271275e-05,   7.81271275e-05],\n",
       "       [  9.99999989e-01,   2.73321335e-05,   1.40565258e-05, ...,\n",
       "          2.73321335e-05,   1.87420344e-05,   0.00000000e+00],\n",
       "       [  9.99999958e-01,   6.87045340e-05,   4.13788671e-05, ...,\n",
       "          6.87045340e-05,   7.80733341e-05,   0.00000000e+00]])"
      ]
     },
     "execution_count": 50,
     "metadata": {},
     "output_type": "execute_result"
    }
   ],
   "source": [
    "normedData"
   ]
  },
  {
   "cell_type": "code",
   "execution_count": null,
   "metadata": {
    "collapsed": true
   },
   "outputs": [],
   "source": []
  }
 ],
 "metadata": {
  "kernelspec": {
   "display_name": "Python 2",
   "language": "python",
   "name": "python2"
  },
  "language_info": {
   "codemirror_mode": {
    "name": "ipython",
    "version": 2
   },
   "file_extension": ".py",
   "mimetype": "text/x-python",
   "name": "python",
   "nbconvert_exporter": "python",
   "pygments_lexer": "ipython2",
   "version": "2.7.10"
  }
 },
 "nbformat": 4,
 "nbformat_minor": 0
}
