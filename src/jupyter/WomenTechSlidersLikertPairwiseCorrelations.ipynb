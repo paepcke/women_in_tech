{
 "cells": [
  {
   "cell_type": "code",
   "execution_count": 58,
   "metadata": {
    "collapsed": false
   },
   "outputs": [],
   "source": [
    "import pandas\n",
    "from pandas import DataFrame\n",
    "from scipy.stats import pearsonr\n",
    "import numpy as np\n",
    "import utils\n",
    "import os\n",
    "\n",
    "np.set_printoptions(precision=5, suppress=True)  # suppress scientific float notation\n",
    "np.set_printoptions(precision=2)"
   ]
  },
  {
   "cell_type": "code",
   "execution_count": 44,
   "metadata": {
    "collapsed": false
   },
   "outputs": [],
   "source": [
    "dataPath = os.path.join(os.getenv(\"HOME\"), \n",
    "                        'Project/WomenIndustrySurveyHolzblatt/Data/DataForClustering/slidersLikertByItem.csv')\n",
    "\n",
    "data = pandas.read_csv(dataPath, sep=',')\n",
    "# Make the question column the index, so that\n",
    "# all operations on the dataframe only address\n",
    "# the numeric scores:\n",
    "data = data.set_index('question')\n",
    "# Replace 0s with their column's median.\n",
    "data = utils.replaceZerosDataFrame(data, direction='row')"
   ]
  },
  {
   "cell_type": "code",
   "execution_count": 56,
   "metadata": {
    "collapsed": true
   },
   "outputs": [],
   "source": [
    "def corrcoef_loop(matrix):\n",
    "    rows, cols = matrix.shape[0], matrix.shape[1]\n",
    "    r = np.ones(shape=(rows, rows))\n",
    "    p = np.ones(shape=(rows, rows))\n",
    "    for i in range(rows):\n",
    "        for j in range(i+1, rows):\n",
    "            r_, p_ = pearsonr(matrix[i], matrix[j])\n",
    "            r[i, j] = r[j, i] = r_\n",
    "            p[i, j] = p[j, i] = p_\n",
    "    return r, p"
   ]
  },
  {
   "cell_type": "code",
   "execution_count": 75,
   "metadata": {
    "collapsed": false
   },
   "outputs": [
    {
     "data": {
      "text/plain": [
       "'/Users/paepcke/Project/WomenIndustrySurveyHolzblatt/Data/DataForClustering/slidersLikertByItemCorrs.xlsx'"
      ]
     },
     "execution_count": 75,
     "metadata": {},
     "output_type": "execute_result"
    }
   ],
   "source": [
    "corrMatrixPath = os.path.splitext(dataPath)[0] + 'Corrs.xlsx'\n",
    "corrMatrixPath"
   ]
  },
  {
   "cell_type": "code",
   "execution_count": 80,
   "metadata": {
    "collapsed": false
   },
   "outputs": [],
   "source": [
    "(r, p) = corrcoef_loop(data.values)\n",
    "#data.index\n",
    "crossCorrR = DataFrame(r, columns=data.index, index=data.index)\n",
    "writer = pandas.ExcelWriter(corrMatrixPath)\n",
    "crossCorrR.to_excel(writer, 'SlidersLikertCorrelationsR')\n",
    "# Save the p values in a separate sheet:\n",
    "crossCorrP = DataFrame(p, columns=data.index, index=data.index)\n",
    "crossCorrP.to_excel(writer, 'SlidersLikertCorrelationsP')\n",
    "writer.save()"
   ]
  },
  {
   "cell_type": "code",
   "execution_count": null,
   "metadata": {
    "collapsed": true
   },
   "outputs": [],
   "source": []
  },
  {
   "cell_type": "code",
   "execution_count": null,
   "metadata": {
    "collapsed": true
   },
   "outputs": [],
   "source": []
  }
 ],
 "metadata": {
  "kernelspec": {
   "display_name": "Python 2",
   "language": "python",
   "name": "python2"
  },
  "language_info": {
   "codemirror_mode": {
    "name": "ipython",
    "version": 2
   },
   "file_extension": ".py",
   "mimetype": "text/x-python",
   "name": "python",
   "nbconvert_exporter": "python",
   "pygments_lexer": "ipython2",
   "version": "2.7.10"
  }
 },
 "nbformat": 4,
 "nbformat_minor": 0
}
