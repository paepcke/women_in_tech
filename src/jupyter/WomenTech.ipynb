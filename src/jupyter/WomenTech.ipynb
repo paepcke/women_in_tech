{
 "cells": [
  {
   "cell_type": "code",
   "execution_count": 1,
   "metadata": {
    "collapsed": false
   },
   "outputs": [
    {
     "ename": "ImportError",
     "evalue": "No module named pandas",
     "output_type": "error",
     "traceback": [
      "\u001b[0;31m---------------------------------------------------------------------------\u001b[0m",
      "\u001b[0;31mImportError\u001b[0m                               Traceback (most recent call last)",
      "\u001b[0;32m<ipython-input-1-b5f1dcb8eba7>\u001b[0m in \u001b[0;36m<module>\u001b[0;34m()\u001b[0m\n\u001b[1;32m      2\u001b[0m \u001b[0;32mfrom\u001b[0m \u001b[0mscipy\u001b[0m\u001b[0;34m.\u001b[0m\u001b[0mcluster\u001b[0m\u001b[0;34m.\u001b[0m\u001b[0mvq\u001b[0m \u001b[0;32mimport\u001b[0m \u001b[0mkmeans\u001b[0m\u001b[0;34m,\u001b[0m\u001b[0mvq\u001b[0m\u001b[0;34m\u001b[0m\u001b[0m\n\u001b[1;32m      3\u001b[0m \u001b[0;32mfrom\u001b[0m \u001b[0mmatplotlib\u001b[0m\u001b[0;34m.\u001b[0m\u001b[0mpyplot\u001b[0m \u001b[0;32mimport\u001b[0m \u001b[0mplot\u001b[0m\u001b[0;34m,\u001b[0m\u001b[0mshow\u001b[0m\u001b[0;34m\u001b[0m\u001b[0m\n\u001b[0;32m----> 4\u001b[0;31m \u001b[0;32mfrom\u001b[0m \u001b[0mpandas\u001b[0m \u001b[0;32mimport\u001b[0m \u001b[0mDataFrame\u001b[0m\u001b[0;34m\u001b[0m\u001b[0m\n\u001b[0m\u001b[1;32m      5\u001b[0m \u001b[0;32mimport\u001b[0m \u001b[0mos\u001b[0m\u001b[0;34m\u001b[0m\u001b[0m\n\u001b[1;32m      6\u001b[0m dataPath = os.path.join(os.getenv(\"HOME\"), \n",
      "\u001b[0;31mImportError\u001b[0m: No module named pandas"
     ]
    }
   ],
   "source": [
    "from scipy import stats\n",
    "from scipy.cluster.vq import kmeans,vq\n",
    "from matplotlib.pyplot import plot,show\n",
    "from pandas import DataFrame\n",
    "import os\n",
    "dataPath = os.path.join(os.getenv(\"HOME\"), \n",
    "                        'Project/WomenIndustrySurveyHolzblatt/Data/DataForClustering/sliderMinimizationFromScratchTmp.csv')\n",
    "\n",
    "data = pandas.read_csv(dataPath)"
   ]
  },
  {
   "cell_type": "code",
   "execution_count": 2,
   "metadata": {
    "collapsed": false
   },
   "outputs": [
    {
     "data": {
      "text/html": [
       "<div>\n",
       "<table border=\"1\" class=\"dataframe\">\n",
       "  <thead>\n",
       "    <tr style=\"text-align: right;\">\n",
       "      <th></th>\n",
       "      <th>response_id</th>\n",
       "      <th>question</th>\n",
       "      <th>sliderSetting</th>\n",
       "    </tr>\n",
       "  </thead>\n",
       "  <tbody>\n",
       "    <tr>\n",
       "      <th>0</th>\n",
       "      <td>1276242</td>\n",
       "      <td>Team|GetsInWay</td>\n",
       "      <td>76</td>\n",
       "    </tr>\n",
       "    <tr>\n",
       "      <th>1</th>\n",
       "      <td>1276242</td>\n",
       "      <td>Team|LooseGroup</td>\n",
       "      <td>76</td>\n",
       "    </tr>\n",
       "    <tr>\n",
       "      <th>2</th>\n",
       "      <td>1276242</td>\n",
       "      <td>Team|Alienated</td>\n",
       "      <td>82</td>\n",
       "    </tr>\n",
       "    <tr>\n",
       "      <th>3</th>\n",
       "      <td>1276242</td>\n",
       "      <td>Team|HoHum</td>\n",
       "      <td>82</td>\n",
       "    </tr>\n",
       "    <tr>\n",
       "      <th>4</th>\n",
       "      <td>1276242</td>\n",
       "      <td>Team|MustProveMySelf</td>\n",
       "      <td>82</td>\n",
       "    </tr>\n",
       "    <tr>\n",
       "      <th>5</th>\n",
       "      <td>1276242</td>\n",
       "      <td>Team|Invisible</td>\n",
       "      <td>71</td>\n",
       "    </tr>\n",
       "    <tr>\n",
       "      <th>6</th>\n",
       "      <td>1276242</td>\n",
       "      <td>Team|NotPartOfGroup</td>\n",
       "      <td>76</td>\n",
       "    </tr>\n",
       "    <tr>\n",
       "      <th>7</th>\n",
       "      <td>1276242</td>\n",
       "      <td>Team|PowerStruggles</td>\n",
       "      <td>76</td>\n",
       "    </tr>\n",
       "    <tr>\n",
       "      <th>8</th>\n",
       "      <td>1276242</td>\n",
       "      <td>Team|DontSocialize</td>\n",
       "      <td>29</td>\n",
       "    </tr>\n",
       "    <tr>\n",
       "      <th>9</th>\n",
       "      <td>1276242</td>\n",
       "      <td>Team|HardToInfluence</td>\n",
       "      <td>71</td>\n",
       "    </tr>\n",
       "  </tbody>\n",
       "</table>\n",
       "</div>"
      ],
      "text/plain": [
       "   response_id              question  sliderSetting\n",
       "0      1276242        Team|GetsInWay             76\n",
       "1      1276242       Team|LooseGroup             76\n",
       "2      1276242        Team|Alienated             82\n",
       "3      1276242            Team|HoHum             82\n",
       "4      1276242  Team|MustProveMySelf             82\n",
       "5      1276242        Team|Invisible             71\n",
       "6      1276242   Team|NotPartOfGroup             76\n",
       "7      1276242   Team|PowerStruggles             76\n",
       "8      1276242    Team|DontSocialize             29\n",
       "9      1276242  Team|HardToInfluence             71"
      ]
     },
     "execution_count": 2,
     "metadata": {},
     "output_type": "execute_result"
    }
   ],
   "source": [
    "data[:10]"
   ]
  },
  {
   "cell_type": "markdown",
   "metadata": {},
   "source": [
    "### Make columns out of the values in 'question' column, filling sliderSetting into the resulting cells:"
   ]
  },
  {
   "cell_type": "code",
   "execution_count": 3,
   "metadata": {
    "collapsed": false,
    "scrolled": true
   },
   "outputs": [],
   "source": [
    "dataPiv = pandas.pivot_table(data, values='sliderSetting', index='response_id', columns='question')"
   ]
  },
  {
   "cell_type": "code",
   "execution_count": 4,
   "metadata": {
    "collapsed": false
   },
   "outputs": [
    {
     "data": {
      "text/html": [
       "<div>\n",
       "<table border=\"1\" class=\"dataframe\">\n",
       "  <thead>\n",
       "    <tr style=\"text-align: right;\">\n",
       "      <th>question</th>\n",
       "      <th>GenderBalance|MenTalkDifferently</th>\n",
       "      <th>GenderBalance|MustProveMyselfDaily</th>\n",
       "      <th>GenderBalance|NoClearValues</th>\n",
       "      <th>GenderBalance|TreatedDifferently</th>\n",
       "      <th>GenderBalance|UsuallyOnlyWoman</th>\n",
       "      <th>Manager|AmOnMyOwn</th>\n",
       "      <th>Manager|ExpectedToAlreadyKnow</th>\n",
       "      <th>Manager|HesitateNewChallenges</th>\n",
       "      <th>Manager|MatesQuestionWorkQuality</th>\n",
       "      <th>Manager|MatesUninvolved</th>\n",
       "      <th>...</th>\n",
       "      <th>Team|NotPartOfGroup</th>\n",
       "      <th>Team|PowerStruggles</th>\n",
       "      <th>WorkLife|HateCompany</th>\n",
       "      <th>WorkLife|HateJob</th>\n",
       "      <th>WorkLife|HateManager</th>\n",
       "      <th>WorkLife|HateProduct/project</th>\n",
       "      <th>WorkLife|HateTeam</th>\n",
       "      <th>WorkLife|ReceivedBadReview</th>\n",
       "      <th>WorkLife|ThinkOfLeavingProfession</th>\n",
       "      <th>WorkLife|ThinkingOfLeavingJob</th>\n",
       "    </tr>\n",
       "    <tr>\n",
       "      <th>response_id</th>\n",
       "      <th></th>\n",
       "      <th></th>\n",
       "      <th></th>\n",
       "      <th></th>\n",
       "      <th></th>\n",
       "      <th></th>\n",
       "      <th></th>\n",
       "      <th></th>\n",
       "      <th></th>\n",
       "      <th></th>\n",
       "      <th></th>\n",
       "      <th></th>\n",
       "      <th></th>\n",
       "      <th></th>\n",
       "      <th></th>\n",
       "      <th></th>\n",
       "      <th></th>\n",
       "      <th></th>\n",
       "      <th></th>\n",
       "      <th></th>\n",
       "      <th></th>\n",
       "    </tr>\n",
       "  </thead>\n",
       "  <tbody>\n",
       "    <tr>\n",
       "      <th>1276242</th>\n",
       "      <td>71.0</td>\n",
       "      <td>82.0</td>\n",
       "      <td>88.0</td>\n",
       "      <td>94.0</td>\n",
       "      <td>47.0</td>\n",
       "      <td>65.0</td>\n",
       "      <td>59.0</td>\n",
       "      <td>59.0</td>\n",
       "      <td>82.0</td>\n",
       "      <td>47.0</td>\n",
       "      <td>...</td>\n",
       "      <td>76.0</td>\n",
       "      <td>76.0</td>\n",
       "      <td>76.0</td>\n",
       "      <td>88.0</td>\n",
       "      <td>76.0</td>\n",
       "      <td>82.0</td>\n",
       "      <td>82.0</td>\n",
       "      <td>59.0</td>\n",
       "      <td>82.0</td>\n",
       "      <td>88.0</td>\n",
       "    </tr>\n",
       "    <tr>\n",
       "      <th>1276245</th>\n",
       "      <td>88.0</td>\n",
       "      <td>82.0</td>\n",
       "      <td>88.0</td>\n",
       "      <td>88.0</td>\n",
       "      <td>88.0</td>\n",
       "      <td>76.0</td>\n",
       "      <td>41.0</td>\n",
       "      <td>76.0</td>\n",
       "      <td>71.0</td>\n",
       "      <td>65.0</td>\n",
       "      <td>...</td>\n",
       "      <td>59.0</td>\n",
       "      <td>47.0</td>\n",
       "      <td>94.0</td>\n",
       "      <td>94.0</td>\n",
       "      <td>88.0</td>\n",
       "      <td>88.0</td>\n",
       "      <td>88.0</td>\n",
       "      <td>94.0</td>\n",
       "      <td>88.0</td>\n",
       "      <td>82.0</td>\n",
       "    </tr>\n",
       "    <tr>\n",
       "      <th>1276247</th>\n",
       "      <td>65.0</td>\n",
       "      <td>71.0</td>\n",
       "      <td>71.0</td>\n",
       "      <td>53.0</td>\n",
       "      <td>71.0</td>\n",
       "      <td>76.0</td>\n",
       "      <td>94.0</td>\n",
       "      <td>82.0</td>\n",
       "      <td>88.0</td>\n",
       "      <td>82.0</td>\n",
       "      <td>...</td>\n",
       "      <td>76.0</td>\n",
       "      <td>59.0</td>\n",
       "      <td>94.0</td>\n",
       "      <td>88.0</td>\n",
       "      <td>94.0</td>\n",
       "      <td>88.0</td>\n",
       "      <td>94.0</td>\n",
       "      <td>94.0</td>\n",
       "      <td>76.0</td>\n",
       "      <td>76.0</td>\n",
       "    </tr>\n",
       "    <tr>\n",
       "      <th>1276250</th>\n",
       "      <td>41.0</td>\n",
       "      <td>12.0</td>\n",
       "      <td>24.0</td>\n",
       "      <td>71.0</td>\n",
       "      <td>88.0</td>\n",
       "      <td>24.0</td>\n",
       "      <td>88.0</td>\n",
       "      <td>76.0</td>\n",
       "      <td>35.0</td>\n",
       "      <td>47.0</td>\n",
       "      <td>...</td>\n",
       "      <td>59.0</td>\n",
       "      <td>29.0</td>\n",
       "      <td>88.0</td>\n",
       "      <td>71.0</td>\n",
       "      <td>53.0</td>\n",
       "      <td>71.0</td>\n",
       "      <td>59.0</td>\n",
       "      <td>65.0</td>\n",
       "      <td>71.0</td>\n",
       "      <td>71.0</td>\n",
       "    </tr>\n",
       "    <tr>\n",
       "      <th>1276252</th>\n",
       "      <td>94.0</td>\n",
       "      <td>94.0</td>\n",
       "      <td>71.0</td>\n",
       "      <td>100.0</td>\n",
       "      <td>59.0</td>\n",
       "      <td>71.0</td>\n",
       "      <td>94.0</td>\n",
       "      <td>47.0</td>\n",
       "      <td>76.0</td>\n",
       "      <td>94.0</td>\n",
       "      <td>...</td>\n",
       "      <td>53.0</td>\n",
       "      <td>94.0</td>\n",
       "      <td>88.0</td>\n",
       "      <td>82.0</td>\n",
       "      <td>94.0</td>\n",
       "      <td>82.0</td>\n",
       "      <td>94.0</td>\n",
       "      <td>94.0</td>\n",
       "      <td>47.0</td>\n",
       "      <td>47.0</td>\n",
       "    </tr>\n",
       "    <tr>\n",
       "      <th>1276253</th>\n",
       "      <td>71.0</td>\n",
       "      <td>35.0</td>\n",
       "      <td>41.0</td>\n",
       "      <td>59.0</td>\n",
       "      <td>71.0</td>\n",
       "      <td>53.0</td>\n",
       "      <td>94.0</td>\n",
       "      <td>94.0</td>\n",
       "      <td>94.0</td>\n",
       "      <td>94.0</td>\n",
       "      <td>...</td>\n",
       "      <td>53.0</td>\n",
       "      <td>24.0</td>\n",
       "      <td>53.0</td>\n",
       "      <td>59.0</td>\n",
       "      <td>65.0</td>\n",
       "      <td>71.0</td>\n",
       "      <td>65.0</td>\n",
       "      <td>82.0</td>\n",
       "      <td>71.0</td>\n",
       "      <td>71.0</td>\n",
       "    </tr>\n",
       "    <tr>\n",
       "      <th>1276260</th>\n",
       "      <td>88.0</td>\n",
       "      <td>94.0</td>\n",
       "      <td>100.0</td>\n",
       "      <td>100.0</td>\n",
       "      <td>82.0</td>\n",
       "      <td>94.0</td>\n",
       "      <td>88.0</td>\n",
       "      <td>53.0</td>\n",
       "      <td>88.0</td>\n",
       "      <td>88.0</td>\n",
       "      <td>...</td>\n",
       "      <td>94.0</td>\n",
       "      <td>82.0</td>\n",
       "      <td>82.0</td>\n",
       "      <td>76.0</td>\n",
       "      <td>82.0</td>\n",
       "      <td>100.0</td>\n",
       "      <td>88.0</td>\n",
       "      <td>94.0</td>\n",
       "      <td>71.0</td>\n",
       "      <td>71.0</td>\n",
       "    </tr>\n",
       "    <tr>\n",
       "      <th>1276261</th>\n",
       "      <td>NaN</td>\n",
       "      <td>NaN</td>\n",
       "      <td>NaN</td>\n",
       "      <td>NaN</td>\n",
       "      <td>NaN</td>\n",
       "      <td>NaN</td>\n",
       "      <td>NaN</td>\n",
       "      <td>NaN</td>\n",
       "      <td>NaN</td>\n",
       "      <td>NaN</td>\n",
       "      <td>...</td>\n",
       "      <td>88.0</td>\n",
       "      <td>NaN</td>\n",
       "      <td>NaN</td>\n",
       "      <td>NaN</td>\n",
       "      <td>NaN</td>\n",
       "      <td>NaN</td>\n",
       "      <td>NaN</td>\n",
       "      <td>NaN</td>\n",
       "      <td>NaN</td>\n",
       "      <td>NaN</td>\n",
       "    </tr>\n",
       "    <tr>\n",
       "      <th>1276279</th>\n",
       "      <td>NaN</td>\n",
       "      <td>NaN</td>\n",
       "      <td>NaN</td>\n",
       "      <td>NaN</td>\n",
       "      <td>NaN</td>\n",
       "      <td>NaN</td>\n",
       "      <td>NaN</td>\n",
       "      <td>NaN</td>\n",
       "      <td>NaN</td>\n",
       "      <td>NaN</td>\n",
       "      <td>...</td>\n",
       "      <td>41.0</td>\n",
       "      <td>NaN</td>\n",
       "      <td>NaN</td>\n",
       "      <td>NaN</td>\n",
       "      <td>NaN</td>\n",
       "      <td>NaN</td>\n",
       "      <td>NaN</td>\n",
       "      <td>NaN</td>\n",
       "      <td>NaN</td>\n",
       "      <td>NaN</td>\n",
       "    </tr>\n",
       "    <tr>\n",
       "      <th>1276291</th>\n",
       "      <td>53.0</td>\n",
       "      <td>0.0</td>\n",
       "      <td>0.0</td>\n",
       "      <td>0.0</td>\n",
       "      <td>82.0</td>\n",
       "      <td>0.0</td>\n",
       "      <td>53.0</td>\n",
       "      <td>100.0</td>\n",
       "      <td>47.0</td>\n",
       "      <td>76.0</td>\n",
       "      <td>...</td>\n",
       "      <td>82.0</td>\n",
       "      <td>24.0</td>\n",
       "      <td>100.0</td>\n",
       "      <td>100.0</td>\n",
       "      <td>47.0</td>\n",
       "      <td>100.0</td>\n",
       "      <td>76.0</td>\n",
       "      <td>100.0</td>\n",
       "      <td>100.0</td>\n",
       "      <td>100.0</td>\n",
       "    </tr>\n",
       "  </tbody>\n",
       "</table>\n",
       "<p>10 rows × 39 columns</p>\n",
       "</div>"
      ],
      "text/plain": [
       "question     GenderBalance|MenTalkDifferently  \\\n",
       "response_id                                     \n",
       "1276242                                  71.0   \n",
       "1276245                                  88.0   \n",
       "1276247                                  65.0   \n",
       "1276250                                  41.0   \n",
       "1276252                                  94.0   \n",
       "1276253                                  71.0   \n",
       "1276260                                  88.0   \n",
       "1276261                                   NaN   \n",
       "1276279                                   NaN   \n",
       "1276291                                  53.0   \n",
       "\n",
       "question     GenderBalance|MustProveMyselfDaily  GenderBalance|NoClearValues  \\\n",
       "response_id                                                                    \n",
       "1276242                                    82.0                         88.0   \n",
       "1276245                                    82.0                         88.0   \n",
       "1276247                                    71.0                         71.0   \n",
       "1276250                                    12.0                         24.0   \n",
       "1276252                                    94.0                         71.0   \n",
       "1276253                                    35.0                         41.0   \n",
       "1276260                                    94.0                        100.0   \n",
       "1276261                                     NaN                          NaN   \n",
       "1276279                                     NaN                          NaN   \n",
       "1276291                                     0.0                          0.0   \n",
       "\n",
       "question     GenderBalance|TreatedDifferently  GenderBalance|UsuallyOnlyWoman  \\\n",
       "response_id                                                                     \n",
       "1276242                                  94.0                            47.0   \n",
       "1276245                                  88.0                            88.0   \n",
       "1276247                                  53.0                            71.0   \n",
       "1276250                                  71.0                            88.0   \n",
       "1276252                                 100.0                            59.0   \n",
       "1276253                                  59.0                            71.0   \n",
       "1276260                                 100.0                            82.0   \n",
       "1276261                                   NaN                             NaN   \n",
       "1276279                                   NaN                             NaN   \n",
       "1276291                                   0.0                            82.0   \n",
       "\n",
       "question     Manager|AmOnMyOwn  Manager|ExpectedToAlreadyKnow  \\\n",
       "response_id                                                     \n",
       "1276242                   65.0                           59.0   \n",
       "1276245                   76.0                           41.0   \n",
       "1276247                   76.0                           94.0   \n",
       "1276250                   24.0                           88.0   \n",
       "1276252                   71.0                           94.0   \n",
       "1276253                   53.0                           94.0   \n",
       "1276260                   94.0                           88.0   \n",
       "1276261                    NaN                            NaN   \n",
       "1276279                    NaN                            NaN   \n",
       "1276291                    0.0                           53.0   \n",
       "\n",
       "question     Manager|HesitateNewChallenges  Manager|MatesQuestionWorkQuality  \\\n",
       "response_id                                                                    \n",
       "1276242                               59.0                              82.0   \n",
       "1276245                               76.0                              71.0   \n",
       "1276247                               82.0                              88.0   \n",
       "1276250                               76.0                              35.0   \n",
       "1276252                               47.0                              76.0   \n",
       "1276253                               94.0                              94.0   \n",
       "1276260                               53.0                              88.0   \n",
       "1276261                                NaN                               NaN   \n",
       "1276279                                NaN                               NaN   \n",
       "1276291                              100.0                              47.0   \n",
       "\n",
       "question     Manager|MatesUninvolved              ...                \\\n",
       "response_id                                       ...                 \n",
       "1276242                         47.0              ...                 \n",
       "1276245                         65.0              ...                 \n",
       "1276247                         82.0              ...                 \n",
       "1276250                         47.0              ...                 \n",
       "1276252                         94.0              ...                 \n",
       "1276253                         94.0              ...                 \n",
       "1276260                         88.0              ...                 \n",
       "1276261                          NaN              ...                 \n",
       "1276279                          NaN              ...                 \n",
       "1276291                         76.0              ...                 \n",
       "\n",
       "question     Team|NotPartOfGroup  Team|PowerStruggles  WorkLife|HateCompany  \\\n",
       "response_id                                                                   \n",
       "1276242                     76.0                 76.0                  76.0   \n",
       "1276245                     59.0                 47.0                  94.0   \n",
       "1276247                     76.0                 59.0                  94.0   \n",
       "1276250                     59.0                 29.0                  88.0   \n",
       "1276252                     53.0                 94.0                  88.0   \n",
       "1276253                     53.0                 24.0                  53.0   \n",
       "1276260                     94.0                 82.0                  82.0   \n",
       "1276261                     88.0                  NaN                   NaN   \n",
       "1276279                     41.0                  NaN                   NaN   \n",
       "1276291                     82.0                 24.0                 100.0   \n",
       "\n",
       "question     WorkLife|HateJob  WorkLife|HateManager  \\\n",
       "response_id                                           \n",
       "1276242                  88.0                  76.0   \n",
       "1276245                  94.0                  88.0   \n",
       "1276247                  88.0                  94.0   \n",
       "1276250                  71.0                  53.0   \n",
       "1276252                  82.0                  94.0   \n",
       "1276253                  59.0                  65.0   \n",
       "1276260                  76.0                  82.0   \n",
       "1276261                   NaN                   NaN   \n",
       "1276279                   NaN                   NaN   \n",
       "1276291                 100.0                  47.0   \n",
       "\n",
       "question     WorkLife|HateProduct/project  WorkLife|HateTeam  \\\n",
       "response_id                                                    \n",
       "1276242                              82.0               82.0   \n",
       "1276245                              88.0               88.0   \n",
       "1276247                              88.0               94.0   \n",
       "1276250                              71.0               59.0   \n",
       "1276252                              82.0               94.0   \n",
       "1276253                              71.0               65.0   \n",
       "1276260                             100.0               88.0   \n",
       "1276261                               NaN                NaN   \n",
       "1276279                               NaN                NaN   \n",
       "1276291                             100.0               76.0   \n",
       "\n",
       "question     WorkLife|ReceivedBadReview  WorkLife|ThinkOfLeavingProfession  \\\n",
       "response_id                                                                  \n",
       "1276242                            59.0                               82.0   \n",
       "1276245                            94.0                               88.0   \n",
       "1276247                            94.0                               76.0   \n",
       "1276250                            65.0                               71.0   \n",
       "1276252                            94.0                               47.0   \n",
       "1276253                            82.0                               71.0   \n",
       "1276260                            94.0                               71.0   \n",
       "1276261                             NaN                                NaN   \n",
       "1276279                             NaN                                NaN   \n",
       "1276291                           100.0                              100.0   \n",
       "\n",
       "question     WorkLife|ThinkingOfLeavingJob  \n",
       "response_id                                 \n",
       "1276242                               88.0  \n",
       "1276245                               82.0  \n",
       "1276247                               76.0  \n",
       "1276250                               71.0  \n",
       "1276252                               47.0  \n",
       "1276253                               71.0  \n",
       "1276260                               71.0  \n",
       "1276261                                NaN  \n",
       "1276279                                NaN  \n",
       "1276291                              100.0  \n",
       "\n",
       "[10 rows x 39 columns]"
      ]
     },
     "execution_count": 4,
     "metadata": {},
     "output_type": "execute_result"
    }
   ],
   "source": [
    "dataPiv[:10]\n",
    "\n",
    "#len(data[:1])\n"
   ]
  },
  {
   "cell_type": "markdown",
   "metadata": {},
   "source": [
    "### Ensure that table does not contain NaNs: replace them with 0s:"
   ]
  },
  {
   "cell_type": "code",
   "execution_count": 5,
   "metadata": {
    "collapsed": false
   },
   "outputs": [],
   "source": [
    "dataPiv.fillna(0, inplace=True)"
   ]
  },
  {
   "cell_type": "code",
   "execution_count": 6,
   "metadata": {
    "collapsed": false
   },
   "outputs": [
    {
     "data": {
      "text/plain": [
       "184"
      ]
     },
     "execution_count": 6,
     "metadata": {},
     "output_type": "execute_result"
    }
   ],
   "source": [
    "len(dataPiv)"
   ]
  },
  {
   "cell_type": "code",
   "execution_count": 7,
   "metadata": {
    "collapsed": false
   },
   "outputs": [
    {
     "data": {
      "text/plain": [
       "5288"
      ]
     },
     "execution_count": 7,
     "metadata": {},
     "output_type": "execute_result"
    }
   ],
   "source": [
    "len(data)"
   ]
  },
  {
   "cell_type": "code",
   "execution_count": 8,
   "metadata": {
    "collapsed": true
   },
   "outputs": [],
   "source": [
    "dataPathOut = os.path.join(os.getenv(\"HOME\"),\n",
    "                           'Project/WomenIndustrySurveyHolzblatt/Data/DataForClustering/slidersByItem.csv')\n",
    "dataPiv.to_csv(dataPathOut)"
   ]
  },
  {
   "cell_type": "code",
   "execution_count": 9,
   "metadata": {
    "collapsed": false
   },
   "outputs": [],
   "source": [
    "normalizedObservations = cluster.vq.whiten(dataPiv)"
   ]
  },
  {
   "cell_type": "markdown",
   "metadata": {},
   "source": [
    "### Run multiple k-means, and plot the respective distortions:"
   ]
  },
  {
   "cell_type": "code",
   "execution_count": 47,
   "metadata": {
    "collapsed": false
   },
   "outputs": [],
   "source": [
    "multipleKMeans = DataFrame([(k,) + kmeans(normalizedObservations, k) for k in range(4,15)],\n",
    "                          columns=['k','centroids','distortion'])"
   ]
  },
  {
   "cell_type": "code",
   "execution_count": 44,
   "metadata": {
    "collapsed": false
   },
   "outputs": [
    {
     "data": {
      "text/html": [
       "<div>\n",
       "<table border=\"1\" class=\"dataframe\">\n",
       "  <thead>\n",
       "    <tr style=\"text-align: right;\">\n",
       "      <th></th>\n",
       "      <th>0</th>\n",
       "      <th>1</th>\n",
       "      <th>2</th>\n",
       "    </tr>\n",
       "  </thead>\n",
       "  <tbody>\n",
       "    <tr>\n",
       "      <th>0</th>\n",
       "      <td>4</td>\n",
       "      <td>[[1.47820478989, 0.583150380428, 1.12108407049...</td>\n",
       "      <td>4.032406</td>\n",
       "    </tr>\n",
       "    <tr>\n",
       "      <th>1</th>\n",
       "      <td>5</td>\n",
       "      <td>[[0.732800415535, 0.403457508747, 0.6327502140...</td>\n",
       "      <td>3.770931</td>\n",
       "    </tr>\n",
       "    <tr>\n",
       "      <th>2</th>\n",
       "      <td>6</td>\n",
       "      <td>[[0.0, 0.0, 0.0, 0.0, 0.0, 0.0758810589707, 0....</td>\n",
       "      <td>3.606358</td>\n",
       "    </tr>\n",
       "    <tr>\n",
       "      <th>3</th>\n",
       "      <td>7</td>\n",
       "      <td>[[1.134807675, 0.249953473433, 0.883530940309,...</td>\n",
       "      <td>3.515739</td>\n",
       "    </tr>\n",
       "    <tr>\n",
       "      <th>4</th>\n",
       "      <td>8</td>\n",
       "      <td>[[0.0, 0.0, 0.0, 0.0, 0.0, 0.0, 0.0, 0.0, 0.0,...</td>\n",
       "      <td>3.429105</td>\n",
       "    </tr>\n",
       "    <tr>\n",
       "      <th>5</th>\n",
       "      <td>9</td>\n",
       "      <td>[[1.87041033191, 2.33228645431, 2.24756150409,...</td>\n",
       "      <td>3.370645</td>\n",
       "    </tr>\n",
       "    <tr>\n",
       "      <th>6</th>\n",
       "      <td>10</td>\n",
       "      <td>[[0.161716083172, 0.0, 0.140507615844, 0.15501...</td>\n",
       "      <td>3.346776</td>\n",
       "    </tr>\n",
       "    <tr>\n",
       "      <th>7</th>\n",
       "      <td>11</td>\n",
       "      <td>[[0.0, 0.0, 0.0, 0.0, 0.0, 0.0, 0.0, 0.0, 0.0,...</td>\n",
       "      <td>3.278345</td>\n",
       "    </tr>\n",
       "    <tr>\n",
       "      <th>8</th>\n",
       "      <td>12</td>\n",
       "      <td>[[1.53450594477, 0.427716437104, 0.95021252071...</td>\n",
       "      <td>3.216610</td>\n",
       "    </tr>\n",
       "    <tr>\n",
       "      <th>9</th>\n",
       "      <td>13</td>\n",
       "      <td>[[2.12818365455, 0.927952270118, 2.05545971585...</td>\n",
       "      <td>3.190212</td>\n",
       "    </tr>\n",
       "    <tr>\n",
       "      <th>10</th>\n",
       "      <td>14</td>\n",
       "      <td>[[2.00103234228, 2.0425175312, 1.83222797056, ...</td>\n",
       "      <td>3.133892</td>\n",
       "    </tr>\n",
       "  </tbody>\n",
       "</table>\n",
       "</div>"
      ],
      "text/plain": [
       "     0                                                  1         2\n",
       "0    4  [[1.47820478989, 0.583150380428, 1.12108407049...  4.032406\n",
       "1    5  [[0.732800415535, 0.403457508747, 0.6327502140...  3.770931\n",
       "2    6  [[0.0, 0.0, 0.0, 0.0, 0.0, 0.0758810589707, 0....  3.606358\n",
       "3    7  [[1.134807675, 0.249953473433, 0.883530940309,...  3.515739\n",
       "4    8  [[0.0, 0.0, 0.0, 0.0, 0.0, 0.0, 0.0, 0.0, 0.0,...  3.429105\n",
       "5    9  [[1.87041033191, 2.33228645431, 2.24756150409,...  3.370645\n",
       "6   10  [[0.161716083172, 0.0, 0.140507615844, 0.15501...  3.346776\n",
       "7   11  [[0.0, 0.0, 0.0, 0.0, 0.0, 0.0, 0.0, 0.0, 0.0,...  3.278345\n",
       "8   12  [[1.53450594477, 0.427716437104, 0.95021252071...  3.216610\n",
       "9   13  [[2.12818365455, 0.927952270118, 2.05545971585...  3.190212\n",
       "10  14  [[2.00103234228, 2.0425175312, 1.83222797056, ...  3.133892"
      ]
     },
     "execution_count": 44,
     "metadata": {},
     "output_type": "execute_result"
    }
   ],
   "source": [
    "multipleKMeans"
   ]
  },
  {
   "cell_type": "code",
   "execution_count": null,
   "metadata": {
    "collapsed": true
   },
   "outputs": [],
   "source": []
  },
  {
   "cell_type": "code",
   "execution_count": 10,
   "metadata": {
    "collapsed": false
   },
   "outputs": [],
   "source": [
    "(clusters, distortion) = cluster.vq.kmeans(normalizedObservations, 4)"
   ]
  },
  {
   "cell_type": "code",
   "execution_count": 11,
   "metadata": {
    "collapsed": false
   },
   "outputs": [
    {
     "data": {
      "text/plain": [
       "array([[ 1.47820479,  0.58315038,  1.12108407,  1.26653794,  1.6573802 ,\n",
       "         0.57626244,  0.88908503,  1.89268435,  1.18221056,  1.11387913,\n",
       "         0.95959083,  0.99714146,  0.99115229,  1.52788722,  0.73276697,\n",
       "         0.89609379,  1.17093999,  1.45300208,  1.35167003,  0.94725225,\n",
       "         1.80065112,  1.11982859,  1.75290373,  1.52024465,  1.19194951,\n",
       "         2.27359852,  0.98951988,  1.21356974,  1.87208114,  1.11213625,\n",
       "         0.98371955,  1.36461019,  1.18862719,  1.10315498,  1.44054782,\n",
       "         1.27141442,  1.42497569,  1.35905247,  0.7785708 ],\n",
       "       [ 0.73280042,  0.40345751,  0.63275021,  0.66574494,  0.73624271,\n",
       "         1.6473448 ,  1.61621679,  2.164021  ,  2.06793406,  1.94080309,\n",
       "         1.85557283,  1.99149711,  0.        ,  0.39968083,  0.        ,\n",
       "         0.        ,  0.4255332 ,  0.35836889,  3.27375429,  1.33516234,\n",
       "         2.81534029,  2.41036479,  3.0785602 ,  3.00802176,  2.77525073,\n",
       "         2.82884005,  2.49586704,  1.81503884,  2.42586843,  2.83187301,\n",
       "         2.07170183,  0.        ,  0.        ,  0.        ,  0.        ,\n",
       "         0.        ,  0.        ,  0.        ,  0.        ]])"
      ]
     },
     "execution_count": 11,
     "metadata": {},
     "output_type": "execute_result"
    }
   ],
   "source": [
    "clusters[:2]"
   ]
  },
  {
   "cell_type": "code",
   "execution_count": 12,
   "metadata": {
    "collapsed": false
   },
   "outputs": [
    {
     "data": {
      "text/plain": [
       "(4, 39)"
      ]
     },
     "execution_count": 12,
     "metadata": {},
     "output_type": "execute_result"
    }
   ],
   "source": [
    "distortion\n",
    "clusters.shape"
   ]
  },
  {
   "cell_type": "code",
   "execution_count": 13,
   "metadata": {
    "collapsed": true
   },
   "outputs": [],
   "source": [
    "(assignment,cdist) = cluster.vq.vq(dataPiv, clusters)"
   ]
  },
  {
   "cell_type": "code",
   "execution_count": 14,
   "metadata": {
    "collapsed": false
   },
   "outputs": [
    {
     "data": {
      "text/plain": [
       "array([2, 2, 2, 2, 2, 2, 2, 1, 1, 2, 2, 2, 2, 2, 2, 2, 1, 2, 1, 2, 1, 2, 2,\n",
       "       2, 2, 2, 1, 1, 2, 1, 1, 1, 2, 1, 1, 2, 2, 1, 1, 2, 2, 1, 2, 2, 2, 2,\n",
       "       1, 2, 1, 2, 2, 1, 2, 2, 2, 1, 2, 2, 2, 2, 1, 2, 1, 2, 1, 1, 1, 2, 2,\n",
       "       2, 1, 2, 1, 2, 2, 2, 2, 2, 2, 1, 2, 1, 1, 1, 2, 1, 2, 2, 2, 1, 2, 2,\n",
       "       2, 2, 2, 2, 2, 2, 2, 1, 1, 2, 2, 1, 2, 2, 2, 1, 1, 1, 2, 2, 1, 1, 1,\n",
       "       1, 1, 2, 2, 2, 2, 2, 2, 2, 2, 2, 2, 2, 2, 2, 2, 2, 1, 2, 2, 1, 2, 1,\n",
       "       2, 1, 1, 2, 2, 1, 2, 2, 1, 1, 2, 2, 1, 1, 2, 1, 1, 2, 2, 1, 2, 1, 2,\n",
       "       2, 1, 2, 2, 2, 2, 2, 2, 2, 1, 2, 1, 2, 2, 1, 1, 2, 2, 2, 2, 2, 2, 2], dtype=int32)"
      ]
     },
     "execution_count": 14,
     "metadata": {},
     "output_type": "execute_result"
    }
   ],
   "source": [
    "assignment"
   ]
  },
  {
   "cell_type": "code",
   "execution_count": 15,
   "metadata": {
    "collapsed": true
   },
   "outputs": [
    {
     "data": {
      "text/plain": [
       "response_id\n",
       "1276242     71.0\n",
       "1276245     88.0\n",
       "1276247     65.0\n",
       "1276250     41.0\n",
       "1276252     94.0\n",
       "1276253     71.0\n",
       "1276260     88.0\n",
       "1276261      0.0\n",
       "1276279      0.0\n",
       "1276291     53.0\n",
       "1276304     82.0\n",
       "1276309     18.0\n",
       "1276321    100.0\n",
       "1276335     59.0\n",
       "1276338      0.0\n",
       "1276365     82.0\n",
       "1276367      0.0\n",
       "1276381    100.0\n",
       "1276387      0.0\n",
       "1276388     82.0\n",
       "1276402      0.0\n",
       "1276416    100.0\n",
       "1276514     53.0\n",
       "1276527     41.0\n",
       "1276528    100.0\n",
       "1276529      0.0\n",
       "1276531      0.0\n",
       "1276535      0.0\n",
       "1276539     59.0\n",
       "1276545      0.0\n",
       "           ...  \n",
       "1277766      0.0\n",
       "1277767    100.0\n",
       "1277959     71.0\n",
       "1277973      0.0\n",
       "1277975     88.0\n",
       "1277977      0.0\n",
       "1277982     88.0\n",
       "1277985     47.0\n",
       "1278115      0.0\n",
       "1278188     76.0\n",
       "1278189     94.0\n",
       "1278277     94.0\n",
       "1278296     82.0\n",
       "1278521     59.0\n",
       "1278845     53.0\n",
       "1278863     47.0\n",
       "1278960      0.0\n",
       "1279098     41.0\n",
       "1279103      0.0\n",
       "1279436     47.0\n",
       "1279484    100.0\n",
       "1279487      0.0\n",
       "1279541      0.0\n",
       "1279542     47.0\n",
       "1279544     53.0\n",
       "1279599    100.0\n",
       "1279718     88.0\n",
       "1279965    100.0\n",
       "1280544     35.0\n",
       "1280847     88.0\n",
       "Name: GenderBalance|MenTalkDifferently, dtype: float64"
      ]
     },
     "execution_count": 15,
     "metadata": {},
     "output_type": "execute_result"
    }
   ],
   "source": [
    "dataPiv['GenderBalance|MenTalkDifferently']"
   ]
  },
  {
   "cell_type": "code",
   "execution_count": 16,
   "metadata": {
    "collapsed": true
   },
   "outputs": [
    {
     "data": {
      "text/plain": [
       "array([ 431.74763578,  461.23454997,  463.51776016,  352.14462427,\n",
       "        455.76202965,  388.07372337,  508.91428288,  206.44204536,\n",
       "        111.46578872,  423.67304775,  286.31679051,  549.78791894,\n",
       "        460.65608167,  277.19178261,  256.78497517,  415.31442801,\n",
       "        152.39519449,  487.54376187,  217.36915954,  486.51662108,\n",
       "        183.66088173,  418.45097286,  385.09985047,  340.03868774,\n",
       "        590.03856388,  220.77183429,  295.27723907,  229.59884087,\n",
       "        367.82733049,  167.41110988,  160.35417198,  303.70299559,\n",
       "        377.74845121,  182.1580868 ,  343.74439925,  556.41093058,\n",
       "        411.53939374,  223.07014629,  254.86210081,  431.91158261,\n",
       "        381.18460643,  194.55757051,  372.25309999,  454.92245599,\n",
       "        491.74120053,  314.96814073,  204.04473951,  194.27758474,\n",
       "        152.23486795,  438.82194624,  377.88460157,  196.79663808,\n",
       "        436.49365541,  335.02612304,  464.1362815 ,  311.61112419,\n",
       "        340.98609622,  562.71427149,  250.51285721,  455.53763689,\n",
       "        184.61901085,  283.09819842,  337.87026527,  434.79890789,\n",
       "        149.69088832,  217.63400626,  264.47542653,  438.62339719,\n",
       "        217.60051705,  396.29593328,  292.57198784,  353.14342083,\n",
       "        131.9004677 ,  530.49064652,  275.02118054,  360.81784734,\n",
       "        311.05673969,  378.59593242,  205.01612774,  211.16336545,\n",
       "        502.91740101,  225.07681447,  331.07390108,   94.46050815,\n",
       "        452.24212019,  149.14783017,  544.47540026,  308.68786506,\n",
       "        347.63132951,  200.73968897,  387.17650955,  432.23583138,\n",
       "        290.39382148,  396.37977221,  251.6635588 ,  403.59782831,\n",
       "        366.7156613 ,  210.49593183,  384.18909552,  248.42355186,\n",
       "        274.59810965,  294.85469839,  462.72119197,  159.79326835,\n",
       "        428.14412871,  371.22308009,  261.5568104 ,  382.19710692,\n",
       "         89.02304399,  207.83866738,  273.92160499,  363.41611324,\n",
       "        220.81385156,  203.25177921,   89.02099042,  314.55715429,\n",
       "        185.71094004,  372.24532425,  350.10036049,  442.26336929,\n",
       "        528.69219145,  320.17915559,  535.82751595,  489.79756163,\n",
       "        178.04711045,  488.892121  ,  379.32117225,  292.45025441,\n",
       "        474.24880497,  262.81972088,  453.67090149,  290.38581614,\n",
       "        218.34687564,  497.17154525,  511.13766669,  259.79114607,\n",
       "        289.85332202,  229.19075653,  261.53385002,  276.06941858,\n",
       "        308.59111006,  158.37843041,  361.08120668,  255.78289315,\n",
       "        312.6266705 ,  394.91328759,  402.41990938,  167.10476939,\n",
       "        188.69872736,  431.06966587,  137.71285647,  137.21413765,\n",
       "        384.06588349,  287.22416545,  370.86956587,  529.19750318,\n",
       "        382.41522189,  163.48423952,  375.92659556,  246.45183105,\n",
       "        413.04089339,  436.91255385,  317.53139961,  512.59794969,\n",
       "        403.86011537,  489.03347681,  444.65786515,  269.04743896,\n",
       "        360.47112853,  495.91663792,  253.60257557,  430.28139972,\n",
       "        251.57594658,  415.45309035,  411.54678311,  184.7039784 ,\n",
       "        214.27169847,  509.31590284,  507.59768342,  448.19528978,\n",
       "        396.4615769 ,  595.17395794,  179.62312722,  358.92767004])"
      ]
     },
     "execution_count": 16,
     "metadata": {},
     "output_type": "execute_result"
    }
   ],
   "source": [
    "cdist"
   ]
  },
  {
   "cell_type": "code",
   "execution_count": 17,
   "metadata": {
    "collapsed": false
   },
   "outputs": [],
   "source": [
    "#pyplot.scatter(clusters[:,0], clusters[:,1])\n",
    "#pyplot.show()"
   ]
  },
  {
   "cell_type": "code",
   "execution_count": 18,
   "metadata": {
    "collapsed": false
   },
   "outputs": [
    {
     "data": {
      "text/plain": [
       "4"
      ]
     },
     "execution_count": 18,
     "metadata": {},
     "output_type": "execute_result"
    }
   ],
   "source": [
    "1+3"
   ]
  },
  {
   "cell_type": "code",
   "execution_count": 32,
   "metadata": {
    "collapsed": false
   },
   "outputs": [
    {
     "data": {
      "text/plain": [
       "(184,)"
      ]
     },
     "execution_count": 32,
     "metadata": {},
     "output_type": "execute_result"
    }
   ],
   "source": [
    "(centroids, dist) = cluster.vq.kmeans(normalizedObservations, 3)\n",
    "(clusterIdxs, distortion) = cluster.vq.vq(normalizedObservations, centroids)\n",
    "clusterIdxs.shape"
   ]
  },
  {
   "cell_type": "code",
   "execution_count": 33,
   "metadata": {
    "collapsed": false,
    "scrolled": true
   },
   "outputs": [
    {
     "data": {
      "text/plain": [
       "array([0, 0, 0, 2, 0, 2, 0, 1, 1, 2, 2, 0, 0, 1, 1, 0, 1, 0, 1, 0, 1, 2, 0,\n",
       "       2, 0, 1, 1, 1, 2, 1, 1, 1, 0, 1, 1, 0, 2, 1, 1, 0, 0, 1, 2, 0, 0, 2,\n",
       "       1, 2, 1, 0, 0, 1, 0, 2, 0, 1, 1, 0, 1, 0, 1, 2, 1, 0, 1, 1, 1, 0, 2,\n",
       "       0, 1, 2, 1, 0, 2, 1, 2, 2, 2, 1, 0, 1, 1, 1, 0, 1, 0, 2, 2, 1, 2, 0,\n",
       "       2, 0, 2, 0, 2, 2, 2, 1, 1, 2, 0, 1, 0, 2, 2, 1, 1, 1, 2, 2, 1, 1, 1,\n",
       "       1, 1, 2, 2, 0, 0, 2, 0, 0, 1, 0, 2, 2, 0, 1, 0, 2, 1, 0, 0, 1, 1, 1,\n",
       "       1, 1, 1, 1, 2, 1, 2, 2, 1, 1, 2, 0, 1, 1, 0, 1, 1, 0, 0, 1, 2, 1, 2,\n",
       "       0, 1, 0, 2, 0, 0, 2, 2, 0, 1, 0, 1, 0, 0, 1, 1, 0, 0, 0, 2, 0, 2, 2], dtype=int32)"
      ]
     },
     "execution_count": 33,
     "metadata": {},
     "output_type": "execute_result"
    }
   ],
   "source": [
    "clusterIdxs"
   ]
  },
  {
   "cell_type": "code",
   "execution_count": 34,
   "metadata": {
    "collapsed": false
   },
   "outputs": [],
   "source": [
    "pyplot.plot(normalizedObservations[clusterIdxs==0,0], normalizedObservations[clusterIdxs==0,1], 'ob',\n",
    "            normalizedObservations[clusterIdxs==1,2], normalizedObservations[clusterIdxs==1,3], 'or',\n",
    "            normalizedObservations[clusterIdxs==2,4], normalizedObservations[clusterIdxs==2,5], 'og')\n",
    "pyplot.plot(centroids[:,0],centroids[:,1],'sg',markersize=8)\n",
    "pyplot.show()                                                                   "
   ]
  },
  {
   "cell_type": "code",
   "execution_count": null,
   "metadata": {
    "collapsed": true
   },
   "outputs": [],
   "source": []
  }
 ],
 "metadata": {
  "kernelspec": {
   "display_name": "Python 2",
   "language": "python",
   "name": "python2"
  },
  "language_info": {
   "codemirror_mode": {
    "name": "ipython",
    "version": 2
   },
   "file_extension": ".py",
   "mimetype": "text/x-python",
   "name": "python",
   "nbconvert_exporter": "python",
   "pygments_lexer": "ipython2",
   "version": "2.7.10"
  }
 },
 "nbformat": 4,
 "nbformat_minor": 0
}
