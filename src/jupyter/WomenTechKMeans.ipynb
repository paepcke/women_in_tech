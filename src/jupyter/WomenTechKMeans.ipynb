{
 "cells": [
  {
   "cell_type": "code",
   "execution_count": 166,
   "metadata": {
    "collapsed": false
   },
   "outputs": [],
   "source": [
    "%matplotlib inline # Cause plots to be placed inside workbook, not in sep. window\n",
    "\n",
    "from scipy import stats\n",
    "from scipy.cluster.vq import kmeans,vq,whiten\n",
    "from matplotlib.pyplot import plot,scatter,show,ylabel,xlabel\n",
    "import numpy\n",
    "import pandas\n",
    "from pandas import DataFrame\n",
    "import os\n",
    "dataPath = os.path.join(os.getenv(\"HOME\"), \n",
    "                        'Project/WomenIndustrySurveyHolzblatt/Data/DataForClustering/sliderMinimizationFromScratchTmp.csv')\n",
    "\n",
    "data = pandas.read_csv(dataPath)"
   ]
  },
  {
   "cell_type": "code",
   "execution_count": 2,
   "metadata": {
    "collapsed": false
   },
   "outputs": [
    {
     "data": {
      "text/html": [
       "<div>\n",
       "<table border=\"1\" class=\"dataframe\">\n",
       "  <thead>\n",
       "    <tr style=\"text-align: right;\">\n",
       "      <th></th>\n",
       "      <th>response_id</th>\n",
       "      <th>question</th>\n",
       "      <th>sliderSetting</th>\n",
       "    </tr>\n",
       "  </thead>\n",
       "  <tbody>\n",
       "    <tr>\n",
       "      <th>0</th>\n",
       "      <td>1276242</td>\n",
       "      <td>Team|GetsInWay</td>\n",
       "      <td>76</td>\n",
       "    </tr>\n",
       "    <tr>\n",
       "      <th>1</th>\n",
       "      <td>1276242</td>\n",
       "      <td>Team|LooseGroup</td>\n",
       "      <td>76</td>\n",
       "    </tr>\n",
       "    <tr>\n",
       "      <th>2</th>\n",
       "      <td>1276242</td>\n",
       "      <td>Team|Alienated</td>\n",
       "      <td>82</td>\n",
       "    </tr>\n",
       "    <tr>\n",
       "      <th>3</th>\n",
       "      <td>1276242</td>\n",
       "      <td>Team|HoHum</td>\n",
       "      <td>82</td>\n",
       "    </tr>\n",
       "    <tr>\n",
       "      <th>4</th>\n",
       "      <td>1276242</td>\n",
       "      <td>Team|MustProveMySelf</td>\n",
       "      <td>82</td>\n",
       "    </tr>\n",
       "    <tr>\n",
       "      <th>5</th>\n",
       "      <td>1276242</td>\n",
       "      <td>Team|Invisible</td>\n",
       "      <td>71</td>\n",
       "    </tr>\n",
       "    <tr>\n",
       "      <th>6</th>\n",
       "      <td>1276242</td>\n",
       "      <td>Team|NotPartOfGroup</td>\n",
       "      <td>76</td>\n",
       "    </tr>\n",
       "    <tr>\n",
       "      <th>7</th>\n",
       "      <td>1276242</td>\n",
       "      <td>Team|PowerStruggles</td>\n",
       "      <td>76</td>\n",
       "    </tr>\n",
       "    <tr>\n",
       "      <th>8</th>\n",
       "      <td>1276242</td>\n",
       "      <td>Team|DontSocialize</td>\n",
       "      <td>29</td>\n",
       "    </tr>\n",
       "    <tr>\n",
       "      <th>9</th>\n",
       "      <td>1276242</td>\n",
       "      <td>Team|HardToInfluence</td>\n",
       "      <td>71</td>\n",
       "    </tr>\n",
       "  </tbody>\n",
       "</table>\n",
       "</div>"
      ],
      "text/plain": [
       "   response_id              question  sliderSetting\n",
       "0      1276242        Team|GetsInWay             76\n",
       "1      1276242       Team|LooseGroup             76\n",
       "2      1276242        Team|Alienated             82\n",
       "3      1276242            Team|HoHum             82\n",
       "4      1276242  Team|MustProveMySelf             82\n",
       "5      1276242        Team|Invisible             71\n",
       "6      1276242   Team|NotPartOfGroup             76\n",
       "7      1276242   Team|PowerStruggles             76\n",
       "8      1276242    Team|DontSocialize             29\n",
       "9      1276242  Team|HardToInfluence             71"
      ]
     },
     "execution_count": 2,
     "metadata": {},
     "output_type": "execute_result"
    }
   ],
   "source": [
    "data[:10]"
   ]
  },
  {
   "cell_type": "markdown",
   "metadata": {},
   "source": [
    "### Make columns out of the values in 'question' column, filling sliderSetting into the resulting cells:"
   ]
  },
  {
   "cell_type": "code",
   "execution_count": 2,
   "metadata": {
    "collapsed": false,
    "scrolled": true
   },
   "outputs": [],
   "source": [
    "dataPiv = pandas.pivot_table(data, values='sliderSetting', index='response_id', columns='question')"
   ]
  },
  {
   "cell_type": "code",
   "execution_count": 4,
   "metadata": {
    "collapsed": false
   },
   "outputs": [
    {
     "data": {
      "text/html": [
       "<div>\n",
       "<table border=\"1\" class=\"dataframe\">\n",
       "  <thead>\n",
       "    <tr style=\"text-align: right;\">\n",
       "      <th>question</th>\n",
       "      <th>GenderBalance|MenTalkDifferently</th>\n",
       "      <th>GenderBalance|MustProveMyselfDaily</th>\n",
       "      <th>GenderBalance|NoClearValues</th>\n",
       "      <th>GenderBalance|TreatedDifferently</th>\n",
       "      <th>GenderBalance|UsuallyOnlyWoman</th>\n",
       "      <th>Manager|AmOnMyOwn</th>\n",
       "      <th>Manager|ExpectedToAlreadyKnow</th>\n",
       "      <th>Manager|HesitateNewChallenges</th>\n",
       "      <th>Manager|MatesQuestionWorkQuality</th>\n",
       "      <th>Manager|MatesUninvolved</th>\n",
       "      <th>...</th>\n",
       "      <th>Team|NotPartOfGroup</th>\n",
       "      <th>Team|PowerStruggles</th>\n",
       "      <th>WorkLife|HateCompany</th>\n",
       "      <th>WorkLife|HateJob</th>\n",
       "      <th>WorkLife|HateManager</th>\n",
       "      <th>WorkLife|HateProduct/project</th>\n",
       "      <th>WorkLife|HateTeam</th>\n",
       "      <th>WorkLife|ReceivedBadReview</th>\n",
       "      <th>WorkLife|ThinkOfLeavingProfession</th>\n",
       "      <th>WorkLife|ThinkingOfLeavingJob</th>\n",
       "    </tr>\n",
       "    <tr>\n",
       "      <th>response_id</th>\n",
       "      <th></th>\n",
       "      <th></th>\n",
       "      <th></th>\n",
       "      <th></th>\n",
       "      <th></th>\n",
       "      <th></th>\n",
       "      <th></th>\n",
       "      <th></th>\n",
       "      <th></th>\n",
       "      <th></th>\n",
       "      <th></th>\n",
       "      <th></th>\n",
       "      <th></th>\n",
       "      <th></th>\n",
       "      <th></th>\n",
       "      <th></th>\n",
       "      <th></th>\n",
       "      <th></th>\n",
       "      <th></th>\n",
       "      <th></th>\n",
       "      <th></th>\n",
       "    </tr>\n",
       "  </thead>\n",
       "  <tbody>\n",
       "    <tr>\n",
       "      <th>1276242</th>\n",
       "      <td>71.0</td>\n",
       "      <td>82.0</td>\n",
       "      <td>88.0</td>\n",
       "      <td>94.0</td>\n",
       "      <td>47.0</td>\n",
       "      <td>65.0</td>\n",
       "      <td>59.0</td>\n",
       "      <td>59.0</td>\n",
       "      <td>82.0</td>\n",
       "      <td>47.0</td>\n",
       "      <td>...</td>\n",
       "      <td>76.0</td>\n",
       "      <td>76.0</td>\n",
       "      <td>76.0</td>\n",
       "      <td>88.0</td>\n",
       "      <td>76.0</td>\n",
       "      <td>82.0</td>\n",
       "      <td>82.0</td>\n",
       "      <td>59.0</td>\n",
       "      <td>82.0</td>\n",
       "      <td>88.0</td>\n",
       "    </tr>\n",
       "    <tr>\n",
       "      <th>1276245</th>\n",
       "      <td>88.0</td>\n",
       "      <td>82.0</td>\n",
       "      <td>88.0</td>\n",
       "      <td>88.0</td>\n",
       "      <td>88.0</td>\n",
       "      <td>76.0</td>\n",
       "      <td>41.0</td>\n",
       "      <td>76.0</td>\n",
       "      <td>71.0</td>\n",
       "      <td>65.0</td>\n",
       "      <td>...</td>\n",
       "      <td>59.0</td>\n",
       "      <td>47.0</td>\n",
       "      <td>94.0</td>\n",
       "      <td>94.0</td>\n",
       "      <td>88.0</td>\n",
       "      <td>88.0</td>\n",
       "      <td>88.0</td>\n",
       "      <td>94.0</td>\n",
       "      <td>88.0</td>\n",
       "      <td>82.0</td>\n",
       "    </tr>\n",
       "    <tr>\n",
       "      <th>1276247</th>\n",
       "      <td>65.0</td>\n",
       "      <td>71.0</td>\n",
       "      <td>71.0</td>\n",
       "      <td>53.0</td>\n",
       "      <td>71.0</td>\n",
       "      <td>76.0</td>\n",
       "      <td>94.0</td>\n",
       "      <td>82.0</td>\n",
       "      <td>88.0</td>\n",
       "      <td>82.0</td>\n",
       "      <td>...</td>\n",
       "      <td>76.0</td>\n",
       "      <td>59.0</td>\n",
       "      <td>94.0</td>\n",
       "      <td>88.0</td>\n",
       "      <td>94.0</td>\n",
       "      <td>88.0</td>\n",
       "      <td>94.0</td>\n",
       "      <td>94.0</td>\n",
       "      <td>76.0</td>\n",
       "      <td>76.0</td>\n",
       "    </tr>\n",
       "    <tr>\n",
       "      <th>1276250</th>\n",
       "      <td>41.0</td>\n",
       "      <td>12.0</td>\n",
       "      <td>24.0</td>\n",
       "      <td>71.0</td>\n",
       "      <td>88.0</td>\n",
       "      <td>24.0</td>\n",
       "      <td>88.0</td>\n",
       "      <td>76.0</td>\n",
       "      <td>35.0</td>\n",
       "      <td>47.0</td>\n",
       "      <td>...</td>\n",
       "      <td>59.0</td>\n",
       "      <td>29.0</td>\n",
       "      <td>88.0</td>\n",
       "      <td>71.0</td>\n",
       "      <td>53.0</td>\n",
       "      <td>71.0</td>\n",
       "      <td>59.0</td>\n",
       "      <td>65.0</td>\n",
       "      <td>71.0</td>\n",
       "      <td>71.0</td>\n",
       "    </tr>\n",
       "    <tr>\n",
       "      <th>1276252</th>\n",
       "      <td>94.0</td>\n",
       "      <td>94.0</td>\n",
       "      <td>71.0</td>\n",
       "      <td>100.0</td>\n",
       "      <td>59.0</td>\n",
       "      <td>71.0</td>\n",
       "      <td>94.0</td>\n",
       "      <td>47.0</td>\n",
       "      <td>76.0</td>\n",
       "      <td>94.0</td>\n",
       "      <td>...</td>\n",
       "      <td>53.0</td>\n",
       "      <td>94.0</td>\n",
       "      <td>88.0</td>\n",
       "      <td>82.0</td>\n",
       "      <td>94.0</td>\n",
       "      <td>82.0</td>\n",
       "      <td>94.0</td>\n",
       "      <td>94.0</td>\n",
       "      <td>47.0</td>\n",
       "      <td>47.0</td>\n",
       "    </tr>\n",
       "    <tr>\n",
       "      <th>1276253</th>\n",
       "      <td>71.0</td>\n",
       "      <td>35.0</td>\n",
       "      <td>41.0</td>\n",
       "      <td>59.0</td>\n",
       "      <td>71.0</td>\n",
       "      <td>53.0</td>\n",
       "      <td>94.0</td>\n",
       "      <td>94.0</td>\n",
       "      <td>94.0</td>\n",
       "      <td>94.0</td>\n",
       "      <td>...</td>\n",
       "      <td>53.0</td>\n",
       "      <td>24.0</td>\n",
       "      <td>53.0</td>\n",
       "      <td>59.0</td>\n",
       "      <td>65.0</td>\n",
       "      <td>71.0</td>\n",
       "      <td>65.0</td>\n",
       "      <td>82.0</td>\n",
       "      <td>71.0</td>\n",
       "      <td>71.0</td>\n",
       "    </tr>\n",
       "    <tr>\n",
       "      <th>1276260</th>\n",
       "      <td>88.0</td>\n",
       "      <td>94.0</td>\n",
       "      <td>100.0</td>\n",
       "      <td>100.0</td>\n",
       "      <td>82.0</td>\n",
       "      <td>94.0</td>\n",
       "      <td>88.0</td>\n",
       "      <td>53.0</td>\n",
       "      <td>88.0</td>\n",
       "      <td>88.0</td>\n",
       "      <td>...</td>\n",
       "      <td>94.0</td>\n",
       "      <td>82.0</td>\n",
       "      <td>82.0</td>\n",
       "      <td>76.0</td>\n",
       "      <td>82.0</td>\n",
       "      <td>100.0</td>\n",
       "      <td>88.0</td>\n",
       "      <td>94.0</td>\n",
       "      <td>71.0</td>\n",
       "      <td>71.0</td>\n",
       "    </tr>\n",
       "    <tr>\n",
       "      <th>1276261</th>\n",
       "      <td>NaN</td>\n",
       "      <td>NaN</td>\n",
       "      <td>NaN</td>\n",
       "      <td>NaN</td>\n",
       "      <td>NaN</td>\n",
       "      <td>NaN</td>\n",
       "      <td>NaN</td>\n",
       "      <td>NaN</td>\n",
       "      <td>NaN</td>\n",
       "      <td>NaN</td>\n",
       "      <td>...</td>\n",
       "      <td>88.0</td>\n",
       "      <td>NaN</td>\n",
       "      <td>NaN</td>\n",
       "      <td>NaN</td>\n",
       "      <td>NaN</td>\n",
       "      <td>NaN</td>\n",
       "      <td>NaN</td>\n",
       "      <td>NaN</td>\n",
       "      <td>NaN</td>\n",
       "      <td>NaN</td>\n",
       "    </tr>\n",
       "    <tr>\n",
       "      <th>1276279</th>\n",
       "      <td>NaN</td>\n",
       "      <td>NaN</td>\n",
       "      <td>NaN</td>\n",
       "      <td>NaN</td>\n",
       "      <td>NaN</td>\n",
       "      <td>NaN</td>\n",
       "      <td>NaN</td>\n",
       "      <td>NaN</td>\n",
       "      <td>NaN</td>\n",
       "      <td>NaN</td>\n",
       "      <td>...</td>\n",
       "      <td>41.0</td>\n",
       "      <td>NaN</td>\n",
       "      <td>NaN</td>\n",
       "      <td>NaN</td>\n",
       "      <td>NaN</td>\n",
       "      <td>NaN</td>\n",
       "      <td>NaN</td>\n",
       "      <td>NaN</td>\n",
       "      <td>NaN</td>\n",
       "      <td>NaN</td>\n",
       "    </tr>\n",
       "    <tr>\n",
       "      <th>1276291</th>\n",
       "      <td>53.0</td>\n",
       "      <td>0.0</td>\n",
       "      <td>0.0</td>\n",
       "      <td>0.0</td>\n",
       "      <td>82.0</td>\n",
       "      <td>0.0</td>\n",
       "      <td>53.0</td>\n",
       "      <td>100.0</td>\n",
       "      <td>47.0</td>\n",
       "      <td>76.0</td>\n",
       "      <td>...</td>\n",
       "      <td>82.0</td>\n",
       "      <td>24.0</td>\n",
       "      <td>100.0</td>\n",
       "      <td>100.0</td>\n",
       "      <td>47.0</td>\n",
       "      <td>100.0</td>\n",
       "      <td>76.0</td>\n",
       "      <td>100.0</td>\n",
       "      <td>100.0</td>\n",
       "      <td>100.0</td>\n",
       "    </tr>\n",
       "  </tbody>\n",
       "</table>\n",
       "<p>10 rows × 39 columns</p>\n",
       "</div>"
      ],
      "text/plain": [
       "question     GenderBalance|MenTalkDifferently  \\\n",
       "response_id                                     \n",
       "1276242                                  71.0   \n",
       "1276245                                  88.0   \n",
       "1276247                                  65.0   \n",
       "1276250                                  41.0   \n",
       "1276252                                  94.0   \n",
       "1276253                                  71.0   \n",
       "1276260                                  88.0   \n",
       "1276261                                   NaN   \n",
       "1276279                                   NaN   \n",
       "1276291                                  53.0   \n",
       "\n",
       "question     GenderBalance|MustProveMyselfDaily  GenderBalance|NoClearValues  \\\n",
       "response_id                                                                    \n",
       "1276242                                    82.0                         88.0   \n",
       "1276245                                    82.0                         88.0   \n",
       "1276247                                    71.0                         71.0   \n",
       "1276250                                    12.0                         24.0   \n",
       "1276252                                    94.0                         71.0   \n",
       "1276253                                    35.0                         41.0   \n",
       "1276260                                    94.0                        100.0   \n",
       "1276261                                     NaN                          NaN   \n",
       "1276279                                     NaN                          NaN   \n",
       "1276291                                     0.0                          0.0   \n",
       "\n",
       "question     GenderBalance|TreatedDifferently  GenderBalance|UsuallyOnlyWoman  \\\n",
       "response_id                                                                     \n",
       "1276242                                  94.0                            47.0   \n",
       "1276245                                  88.0                            88.0   \n",
       "1276247                                  53.0                            71.0   \n",
       "1276250                                  71.0                            88.0   \n",
       "1276252                                 100.0                            59.0   \n",
       "1276253                                  59.0                            71.0   \n",
       "1276260                                 100.0                            82.0   \n",
       "1276261                                   NaN                             NaN   \n",
       "1276279                                   NaN                             NaN   \n",
       "1276291                                   0.0                            82.0   \n",
       "\n",
       "question     Manager|AmOnMyOwn  Manager|ExpectedToAlreadyKnow  \\\n",
       "response_id                                                     \n",
       "1276242                   65.0                           59.0   \n",
       "1276245                   76.0                           41.0   \n",
       "1276247                   76.0                           94.0   \n",
       "1276250                   24.0                           88.0   \n",
       "1276252                   71.0                           94.0   \n",
       "1276253                   53.0                           94.0   \n",
       "1276260                   94.0                           88.0   \n",
       "1276261                    NaN                            NaN   \n",
       "1276279                    NaN                            NaN   \n",
       "1276291                    0.0                           53.0   \n",
       "\n",
       "question     Manager|HesitateNewChallenges  Manager|MatesQuestionWorkQuality  \\\n",
       "response_id                                                                    \n",
       "1276242                               59.0                              82.0   \n",
       "1276245                               76.0                              71.0   \n",
       "1276247                               82.0                              88.0   \n",
       "1276250                               76.0                              35.0   \n",
       "1276252                               47.0                              76.0   \n",
       "1276253                               94.0                              94.0   \n",
       "1276260                               53.0                              88.0   \n",
       "1276261                                NaN                               NaN   \n",
       "1276279                                NaN                               NaN   \n",
       "1276291                              100.0                              47.0   \n",
       "\n",
       "question     Manager|MatesUninvolved              ...                \\\n",
       "response_id                                       ...                 \n",
       "1276242                         47.0              ...                 \n",
       "1276245                         65.0              ...                 \n",
       "1276247                         82.0              ...                 \n",
       "1276250                         47.0              ...                 \n",
       "1276252                         94.0              ...                 \n",
       "1276253                         94.0              ...                 \n",
       "1276260                         88.0              ...                 \n",
       "1276261                          NaN              ...                 \n",
       "1276279                          NaN              ...                 \n",
       "1276291                         76.0              ...                 \n",
       "\n",
       "question     Team|NotPartOfGroup  Team|PowerStruggles  WorkLife|HateCompany  \\\n",
       "response_id                                                                   \n",
       "1276242                     76.0                 76.0                  76.0   \n",
       "1276245                     59.0                 47.0                  94.0   \n",
       "1276247                     76.0                 59.0                  94.0   \n",
       "1276250                     59.0                 29.0                  88.0   \n",
       "1276252                     53.0                 94.0                  88.0   \n",
       "1276253                     53.0                 24.0                  53.0   \n",
       "1276260                     94.0                 82.0                  82.0   \n",
       "1276261                     88.0                  NaN                   NaN   \n",
       "1276279                     41.0                  NaN                   NaN   \n",
       "1276291                     82.0                 24.0                 100.0   \n",
       "\n",
       "question     WorkLife|HateJob  WorkLife|HateManager  \\\n",
       "response_id                                           \n",
       "1276242                  88.0                  76.0   \n",
       "1276245                  94.0                  88.0   \n",
       "1276247                  88.0                  94.0   \n",
       "1276250                  71.0                  53.0   \n",
       "1276252                  82.0                  94.0   \n",
       "1276253                  59.0                  65.0   \n",
       "1276260                  76.0                  82.0   \n",
       "1276261                   NaN                   NaN   \n",
       "1276279                   NaN                   NaN   \n",
       "1276291                 100.0                  47.0   \n",
       "\n",
       "question     WorkLife|HateProduct/project  WorkLife|HateTeam  \\\n",
       "response_id                                                    \n",
       "1276242                              82.0               82.0   \n",
       "1276245                              88.0               88.0   \n",
       "1276247                              88.0               94.0   \n",
       "1276250                              71.0               59.0   \n",
       "1276252                              82.0               94.0   \n",
       "1276253                              71.0               65.0   \n",
       "1276260                             100.0               88.0   \n",
       "1276261                               NaN                NaN   \n",
       "1276279                               NaN                NaN   \n",
       "1276291                             100.0               76.0   \n",
       "\n",
       "question     WorkLife|ReceivedBadReview  WorkLife|ThinkOfLeavingProfession  \\\n",
       "response_id                                                                  \n",
       "1276242                            59.0                               82.0   \n",
       "1276245                            94.0                               88.0   \n",
       "1276247                            94.0                               76.0   \n",
       "1276250                            65.0                               71.0   \n",
       "1276252                            94.0                               47.0   \n",
       "1276253                            82.0                               71.0   \n",
       "1276260                            94.0                               71.0   \n",
       "1276261                             NaN                                NaN   \n",
       "1276279                             NaN                                NaN   \n",
       "1276291                           100.0                              100.0   \n",
       "\n",
       "question     WorkLife|ThinkingOfLeavingJob  \n",
       "response_id                                 \n",
       "1276242                               88.0  \n",
       "1276245                               82.0  \n",
       "1276247                               76.0  \n",
       "1276250                               71.0  \n",
       "1276252                               47.0  \n",
       "1276253                               71.0  \n",
       "1276260                               71.0  \n",
       "1276261                                NaN  \n",
       "1276279                                NaN  \n",
       "1276291                              100.0  \n",
       "\n",
       "[10 rows x 39 columns]"
      ]
     },
     "execution_count": 4,
     "metadata": {},
     "output_type": "execute_result"
    }
   ],
   "source": [
    "dataPiv[:10]\n",
    "\n",
    "#len(data[:1])\n"
   ]
  },
  {
   "cell_type": "markdown",
   "metadata": {},
   "source": [
    "### Ensure that table does not contain NaNs: replace them with 0s:"
   ]
  },
  {
   "cell_type": "code",
   "execution_count": 3,
   "metadata": {
    "collapsed": false
   },
   "outputs": [],
   "source": [
    "dataPiv.fillna(0, inplace=True)"
   ]
  },
  {
   "cell_type": "code",
   "execution_count": 6,
   "metadata": {
    "collapsed": false
   },
   "outputs": [
    {
     "data": {
      "text/plain": [
       "184"
      ]
     },
     "execution_count": 6,
     "metadata": {},
     "output_type": "execute_result"
    }
   ],
   "source": [
    "len(dataPiv)"
   ]
  },
  {
   "cell_type": "code",
   "execution_count": 7,
   "metadata": {
    "collapsed": false
   },
   "outputs": [
    {
     "data": {
      "text/plain": [
       "5288"
      ]
     },
     "execution_count": 7,
     "metadata": {},
     "output_type": "execute_result"
    }
   ],
   "source": [
    "len(data)"
   ]
  },
  {
   "cell_type": "markdown",
   "metadata": {},
   "source": [
    "### Save the non-NaN dataset for later use:"
   ]
  },
  {
   "cell_type": "code",
   "execution_count": 8,
   "metadata": {
    "collapsed": true
   },
   "outputs": [],
   "source": [
    "# dataPathOut = os.path.join(os.getenv(\"HOME\"),\n",
    "#                           'Project/WomenIndustrySurveyHolzblatt/Data/DataForClustering/slidersByItem.csv')\n",
    "# dataPiv.to_csv(dataPathOut)"
   ]
  },
  {
   "cell_type": "code",
   "execution_count": 6,
   "metadata": {
    "collapsed": false
   },
   "outputs": [],
   "source": [
    "normalizedObservations = whiten(dataPiv)"
   ]
  },
  {
   "cell_type": "markdown",
   "metadata": {},
   "source": [
    "### Run multiple k-means with varying k, and plot the respective distortions:"
   ]
  },
  {
   "cell_type": "code",
   "execution_count": 144,
   "metadata": {
    "collapsed": false
   },
   "outputs": [],
   "source": [
    "#multipleKMeans = DataFrame([(k,) + kmeans(normalizedObservations, k) for k in range(4,15)],\n",
    "#                          columns=['k','centroids','distortion'])\n",
    "multipleKMeans = DataFrame([[k] + list(kmeans(normalizedObservations, k)) for k in range(4,15)],\n",
    "                          columns=['k','centroids','distortion'])"
   ]
  },
  {
   "cell_type": "code",
   "execution_count": 145,
   "metadata": {
    "collapsed": false
   },
   "outputs": [
    {
     "data": {
      "text/html": [
       "<div>\n",
       "<table border=\"1\" class=\"dataframe\">\n",
       "  <thead>\n",
       "    <tr style=\"text-align: right;\">\n",
       "      <th></th>\n",
       "      <th>k</th>\n",
       "      <th>centroids</th>\n",
       "      <th>distortion</th>\n",
       "    </tr>\n",
       "  </thead>\n",
       "  <tbody>\n",
       "    <tr>\n",
       "      <th>0</th>\n",
       "      <td>4</td>\n",
       "      <td>[[1.47820478989, 0.583150380428, 1.12108407049...</td>\n",
       "      <td>4.032406</td>\n",
       "    </tr>\n",
       "    <tr>\n",
       "      <th>1</th>\n",
       "      <td>5</td>\n",
       "      <td>[[0.766109525332, 0.421796486417, 0.6615115873...</td>\n",
       "      <td>3.776515</td>\n",
       "    </tr>\n",
       "    <tr>\n",
       "      <th>2</th>\n",
       "      <td>6</td>\n",
       "      <td>[[0.0, 0.0, 0.0, 0.0, 0.0, 0.0758810589707, 0....</td>\n",
       "      <td>3.603964</td>\n",
       "    </tr>\n",
       "    <tr>\n",
       "      <th>3</th>\n",
       "      <td>7</td>\n",
       "      <td>[[1.69151305387, 1.07921721697, 1.25890225067,...</td>\n",
       "      <td>3.521753</td>\n",
       "    </tr>\n",
       "    <tr>\n",
       "      <th>4</th>\n",
       "      <td>8</td>\n",
       "      <td>[[0.732800415535, 0.403457508747, 0.6327502140...</td>\n",
       "      <td>3.443001</td>\n",
       "    </tr>\n",
       "    <tr>\n",
       "      <th>5</th>\n",
       "      <td>9</td>\n",
       "      <td>[[1.98731097765, 1.82487583319, 1.84437802341,...</td>\n",
       "      <td>3.356992</td>\n",
       "    </tr>\n",
       "    <tr>\n",
       "      <th>6</th>\n",
       "      <td>10</td>\n",
       "      <td>[[1.64252806046, 1.544933013, 1.79157716753, 1...</td>\n",
       "      <td>3.316172</td>\n",
       "    </tr>\n",
       "    <tr>\n",
       "      <th>7</th>\n",
       "      <td>11</td>\n",
       "      <td>[[2.01246681281, 1.90511413032, 2.02076445605,...</td>\n",
       "      <td>3.278940</td>\n",
       "    </tr>\n",
       "    <tr>\n",
       "      <th>8</th>\n",
       "      <td>12</td>\n",
       "      <td>[[0.0781154881289, 0.0, 0.0618559397138, 0.067...</td>\n",
       "      <td>3.229446</td>\n",
       "    </tr>\n",
       "    <tr>\n",
       "      <th>9</th>\n",
       "      <td>13</td>\n",
       "      <td>[[0.0, 0.0, 0.0, 0.0, 0.0, 0.0, 0.0, 0.0, 0.0,...</td>\n",
       "      <td>3.197664</td>\n",
       "    </tr>\n",
       "    <tr>\n",
       "      <th>10</th>\n",
       "      <td>14</td>\n",
       "      <td>[[0.0, 0.0, 0.0, 0.0, 0.0, 0.0, 0.0, 0.0, 0.0,...</td>\n",
       "      <td>3.150728</td>\n",
       "    </tr>\n",
       "  </tbody>\n",
       "</table>\n",
       "</div>"
      ],
      "text/plain": [
       "     k                                          centroids  distortion\n",
       "0    4  [[1.47820478989, 0.583150380428, 1.12108407049...    4.032406\n",
       "1    5  [[0.766109525332, 0.421796486417, 0.6615115873...    3.776515\n",
       "2    6  [[0.0, 0.0, 0.0, 0.0, 0.0, 0.0758810589707, 0....    3.603964\n",
       "3    7  [[1.69151305387, 1.07921721697, 1.25890225067,...    3.521753\n",
       "4    8  [[0.732800415535, 0.403457508747, 0.6327502140...    3.443001\n",
       "5    9  [[1.98731097765, 1.82487583319, 1.84437802341,...    3.356992\n",
       "6   10  [[1.64252806046, 1.544933013, 1.79157716753, 1...    3.316172\n",
       "7   11  [[2.01246681281, 1.90511413032, 2.02076445605,...    3.278940\n",
       "8   12  [[0.0781154881289, 0.0, 0.0618559397138, 0.067...    3.229446\n",
       "9   13  [[0.0, 0.0, 0.0, 0.0, 0.0, 0.0, 0.0, 0.0, 0.0,...    3.197664\n",
       "10  14  [[0.0, 0.0, 0.0, 0.0, 0.0, 0.0, 0.0, 0.0, 0.0,...    3.150728"
      ]
     },
     "execution_count": 145,
     "metadata": {},
     "output_type": "execute_result"
    }
   ],
   "source": [
    "multipleKMeans"
   ]
  },
  {
   "cell_type": "code",
   "execution_count": 146,
   "metadata": {
    "collapsed": false
   },
   "outputs": [
    {
     "data": {
      "image/png": "[encoded data removed]",
      "text/plain": [
       "<matplotlib.figure.Figure at 0x1179aad90>"
      ]
     },
     "metadata": {},
     "output_type": "display_data"
    }
   ],
   "source": [
    "plot(multipleKMeans['k'], multipleKMeans['distortion'])\n",
    "ylabel('Distortion')\n",
    "xlabel('k (number of clusters)')\n",
    "show()"
   ]
  },
  {
   "cell_type": "markdown",
   "metadata": {},
   "source": [
    "### Pick the centroids of the 8-clusters k:"
   ]
  },
  {
   "cell_type": "code",
   "execution_count": 158,
   "metadata": {
    "collapsed": true
   },
   "outputs": [],
   "source": [
    "# I Should be able to pick the 'centroids' column in the row that holds\n",
    "# the k-means result for k-8 in the table above. But I can't\n",
    "# get the result datatypes to work. So re-compute the k-means\n",
    "# for k=8:\n",
    "#centroids = DataFrame(multipleKMeans[multipleKMeans['k']==8]['centroids'])\n",
    "(centroids, distortion) = kmeans(normalizedObservations, 8)"
   ]
  },
  {
   "cell_type": "code",
   "execution_count": 159,
   "metadata": {
    "collapsed": false,
    "scrolled": true
   },
   "outputs": [
    {
     "data": {
      "text/plain": [
       "array([[ 1.96455094,  2.35268707,  2.25288482,  2.15299967,  1.98885624,\n",
       "         2.41561931,  2.34145794,  2.12652952,  2.40708154,  2.43199183,\n",
       "         2.27094877,  2.45481009,  2.20857604,  1.86077098,  2.37543673,\n",
       "         2.48661131,  2.29556344,  1.92223998,  3.48121382,  2.10023584,\n",
       "         2.80258205,  2.91644309,  3.56538572,  3.72612727,  3.08053916,\n",
       "         2.97766268,  3.08845301,  2.54638327,  2.94875461,  3.2805804 ,\n",
       "         2.65756511,  2.17522939,  2.29502991,  2.31149018,  2.18712635,\n",
       "         2.30908691,  2.20957769,  2.06867697,  2.23180808],\n",
       "       [ 1.9725456 ,  1.82839607,  1.91727664,  2.02763892,  1.9514452 ,\n",
       "         1.47037697,  1.66141711,  1.74144752,  1.94636031,  1.75739597,\n",
       "         1.6864717 ,  1.56675002,  1.90245472,  1.55631345,  1.61940053,\n",
       "         1.89556228,  1.54420976,  1.5615465 ,  2.80834308,  1.16623998,\n",
       "         2.52377705,  2.086751  ,  2.6756785 ,  3.04115359,  2.12373378,\n",
       "         2.51800643,  2.43018632,  1.79023193,  2.38168642,  2.34802728,\n",
       "         2.0544928 ,  1.9361348 ,  1.84594975,  1.88791784,  1.71035337,\n",
       "         1.90296416,  1.8567827 ,  1.7566717 ,  1.6368181 ],\n",
       "       [ 0.        ,  0.        ,  0.        ,  0.        ,  0.        ,\n",
       "         0.        ,  0.        ,  0.        ,  0.        ,  0.        ,\n",
       "         0.        ,  0.        ,  0.        ,  0.        ,  0.        ,\n",
       "         0.        ,  0.        ,  0.        ,  2.29079244,  0.        ,\n",
       "         0.        ,  0.        ,  2.63522033,  2.5080217 ,  1.95059241,\n",
       "         0.        ,  1.98511436,  0.        ,  0.        ,  2.35967841,\n",
       "         0.        ,  0.        ,  0.        ,  0.        ,  0.        ,\n",
       "         0.        ,  0.        ,  0.        ,  0.        ],\n",
       "       [ 0.14706488,  0.        ,  0.13656901,  0.15210115,  0.14427989,\n",
       "         0.74176654,  0.69811469,  1.25129651,  1.17987369,  0.51223763,\n",
       "         0.75698292,  0.9638726 ,  0.        ,  0.        ,  0.        ,\n",
       "         0.        ,  0.        ,  0.        ,  1.9661551 ,  1.09981451,\n",
       "         1.83776861,  1.19198462,  1.81957122,  2.17811627,  1.19153835,\n",
       "         2.18775792,  1.57521433,  1.1776921 ,  1.58290544,  1.36564742,\n",
       "         1.26939469,  0.        ,  0.        ,  0.        ,  0.        ,\n",
       "         0.        ,  0.        ,  0.        ,  0.        ],\n",
       "       [ 0.99479894,  0.22751447,  0.8979281 ,  1.00838675,  1.45536107,\n",
       "         0.17880337,  0.42146243,  1.57181157,  0.62686129,  0.55919933,\n",
       "         0.9088541 ,  0.85370453,  0.49822629,  1.55047188,  0.546272  ,\n",
       "         0.25168707,  0.82896077,  1.3857557 ,  0.37387857,  0.10172197,\n",
       "         1.27019193,  0.13999593,  0.88148724,  0.60160435,  0.72109787,\n",
       "         2.10030209,  0.21973183,  0.66277045,  0.9007105 ,  0.26391585,\n",
       "         0.21312715,  0.83543028,  0.16620774,  0.5409751 ,  0.79671586,\n",
       "         0.30425085,  0.78858794,  0.97682554,  0.11412655],\n",
       "       [ 0.        ,  0.        ,  0.        ,  0.        ,  0.        ,\n",
       "         0.        ,  0.        ,  0.        ,  0.        ,  0.        ,\n",
       "         0.        ,  0.        ,  0.        ,  0.        ,  0.        ,\n",
       "         0.        ,  0.        ,  0.        ,  2.56329124,  1.25612997,\n",
       "         2.39875786,  2.03557308,  2.85417039,  2.75355003,  2.04236779,\n",
       "         2.63719387,  2.19826547,  1.81442105,  2.33569523,  2.34222403,\n",
       "         1.91394483,  0.        ,  0.        ,  0.        ,  0.        ,\n",
       "         0.        ,  0.        ,  0.        ,  0.        ],\n",
       "       [ 1.60129902,  0.7020245 ,  1.06489334,  1.2023538 ,  1.66612094,\n",
       "         0.56800898,  0.94465717,  2.00028336,  1.36954639,  1.31644473,\n",
       "         0.75338253,  0.88156087,  1.08061736,  1.60736483,  0.69945938,\n",
       "         1.07944452,  1.23362703,  1.59966875,  1.73890284,  1.37081078,\n",
       "         1.97832186,  1.4304326 ,  2.10995591,  1.80343006,  1.49661822,\n",
       "         2.33760435,  1.18653086,  1.48651363,  2.24699795,  1.4887561 ,\n",
       "         1.14542721,  1.5347124 ,  1.56034681,  1.23924923,  1.71818853,\n",
       "         1.62422551,  1.68108538,  1.52734728,  0.93175239],\n",
       "       [ 0.84272048,  0.46397614,  0.72766275,  0.76560668,  0.84667912,\n",
       "         1.65405532,  1.6198206 ,  2.18042352,  2.11479307,  2.08237621,\n",
       "         1.88071102,  2.01130239,  0.        ,  0.45963295,  0.        ,\n",
       "         0.        ,  0.48936318,  0.41212423,  3.39006532,  1.38935263,\n",
       "         2.92623461,  2.5072397 ,  3.18455039,  3.04612337,  2.99323643,\n",
       "         2.93174546,  2.61343551,  1.79884544,  2.46266376,  3.04822811,\n",
       "         2.16628527,  0.        ,  0.        ,  0.        ,  0.        ,\n",
       "         0.        ,  0.        ,  0.        ,  0.        ]])"
      ]
     },
     "execution_count": 159,
     "metadata": {},
     "output_type": "execute_result"
    }
   ],
   "source": [
    "centroids"
   ]
  },
  {
   "cell_type": "markdown",
   "metadata": {},
   "source": [
    "### Assign each observation to one of the 8 clusters:"
   ]
  },
  {
   "cell_type": "code",
   "execution_count": 160,
   "metadata": {
    "collapsed": false
   },
   "outputs": [],
   "source": [
    "(clusterIndexes,cdist) = vq(normalizedObservations, centroids)"
   ]
  },
  {
   "cell_type": "code",
   "execution_count": 161,
   "metadata": {
    "collapsed": false
   },
   "outputs": [
    {
     "data": {
      "text/plain": [
       "array([1, 1, 1, 6, 1, 1, 0, 2, 2, 6, 4, 0, 1, 7, 5, 1, 2, 1, 5, 0, 5, 7, 1,\n",
       "       6, 0, 5, 5, 5, 6, 2, 2, 7, 1, 5, 7, 0, 6, 3, 5, 7, 1, 5, 6, 7, 1, 6,\n",
       "       5, 4, 3, 1, 1, 2, 1, 6, 1, 7, 7, 0, 5, 1, 5, 4, 7, 1, 2, 3, 5, 1, 4,\n",
       "       1, 7, 6, 2, 0, 4, 7, 6, 6, 4, 5, 0, 3, 7, 2, 1, 2, 0, 6, 1, 5, 6, 1,\n",
       "       6, 1, 4, 1, 1, 4, 1, 5, 5, 6, 1, 3, 7, 1, 6, 7, 2, 5, 6, 6, 5, 3, 2,\n",
       "       7, 2, 1, 6, 1, 0, 6, 0, 1, 3, 0, 6, 6, 0, 5, 1, 6, 5, 1, 0, 5, 5, 5,\n",
       "       3, 3, 5, 4, 6, 5, 6, 1, 7, 2, 4, 1, 2, 3, 1, 7, 7, 0, 1, 3, 6, 5, 1,\n",
       "       1, 7, 0, 1, 0, 1, 6, 6, 0, 3, 1, 3, 1, 1, 5, 5, 0, 0, 1, 7, 0, 4, 6], dtype=int32)"
      ]
     },
     "execution_count": 161,
     "metadata": {},
     "output_type": "execute_result"
    }
   ],
   "source": [
    "clusterIndexes"
   ]
  },
  {
   "cell_type": "code",
   "execution_count": 167,
   "metadata": {
    "collapsed": false
   },
   "outputs": [
    {
     "name": "stderr",
     "output_type": "stream",
     "text": [
      "/System/Library/Frameworks/Python.framework/Versions/2.7/Extras/lib/python/matplotlib/collections.py:548: FutureWarning: elementwise comparison failed; returning scalar instead, but in the future will perform elementwise comparison\n",
      "  if self._edgecolors == 'face':\n"
     ]
    },
    {
     "data": {
      "image/png": "[encoded data removed]",
      "text/plain": [
       "<matplotlib.figure.Figure at 0x1179bf990>"
      ]
     },
     "metadata": {},
     "output_type": "display_data"
    }
   ],
   "source": [
    "# Rows are observations, columns are features;\n",
    "# Get number of features:\n",
    "(numObservations, numFeatures) = normalizedObservations.shape\n",
    "for i in range(numFeatures):\n",
    "        # Make a vector for the X-axis, and \n",
    "        # plot the observations for the current\n",
    "        # loop against that axis. Dot size is 80.\n",
    "        # Color is controlled by the cluster indexes.\n",
    "        # The  normalizedObservations[:,i] picks the\n",
    "        # (column-)vector of one feature down all of\n",
    "        # the observations:\n",
    "        scatter(numpy.arange(0,len(normalizedObservations[:,i])), \n",
    "                normalizedObservations[:,i], \n",
    "                s=80, \n",
    "                c=clusterIndexes)\n",
    "show()       \n"
   ]
  },
  {
   "cell_type": "code",
   "execution_count": 168,
   "metadata": {
    "collapsed": false
   },
   "outputs": [
    {
     "data": {
      "text/plain": [
       "<matplotlib.collections.PathCollection at 0x10b33ad50>"
      ]
     },
     "execution_count": 168,
     "metadata": {},
     "output_type": "execute_result"
    },
    {
     "data": {
      "image/png": "[encoded data removed]",
      "text/plain": [
       "<matplotlib.figure.Figure at 0x1179a8750>"
      ]
     },
     "metadata": {},
     "output_type": "display_data"
    }
   ],
   "source": [
    "scatter(numpy.arange(0,len(normalizedObservations[:,0])),\n",
    "        normalizedObservations[:,1],\n",
    "        s=80,\n",
    "        c=clusterIndexes)"
   ]
  },
  {
   "cell_type": "code",
   "execution_count": null,
   "metadata": {
    "collapsed": true
   },
   "outputs": [],
   "source": []
  }
 ],
 "metadata": {
  "kernelspec": {
   "display_name": "Python 2",
   "language": "python",
   "name": "python2"
  },
  "language_info": {
   "codemirror_mode": {
    "name": "ipython",
    "version": 2
   },
   "file_extension": ".py",
   "mimetype": "text/x-python",
   "name": "python",
   "nbconvert_exporter": "python",
   "pygments_lexer": "ipython2",
   "version": "2.7.10"
  }
 },
 "nbformat": 4,
 "nbformat_minor": 0
}
